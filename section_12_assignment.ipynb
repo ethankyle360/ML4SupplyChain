{
  "nbformat": 4,
  "nbformat_minor": 0,
  "metadata": {
    "colab": {
      "provenance": [],
      "authorship_tag": "ABX9TyM5jjH2r3z4bdAQEilN6g9K",
      "include_colab_link": true
    },
    "kernelspec": {
      "name": "python3",
      "display_name": "Python 3"
    },
    "language_info": {
      "name": "python"
    }
  },
  "cells": [
    {
      "cell_type": "markdown",
      "metadata": {
        "id": "view-in-github",
        "colab_type": "text"
      },
      "source": [
        "<a href=\"https://colab.research.google.com/github/ethankyle360/ML4SupplyChain/blob/main/section_12_assignment.ipynb\" target=\"_parent\"><img src=\"https://colab.research.google.com/assets/colab-badge.svg\" alt=\"Open In Colab\"/></a>"
      ]
    },
    {
      "cell_type": "markdown",
      "source": [
        "Assignment: Work on the 2011 dataset for a UK retailer.\n",
        "\n",
        "Objective: Characterize how many products are lumpy, intermittent, smooth and erratic."
      ],
      "metadata": {
        "id": "T0CWWalJ6lMv"
      }
    },
    {
      "cell_type": "code",
      "execution_count": 1,
      "metadata": {
        "id": "jAoL6txy6guN"
      },
      "outputs": [],
      "source": [
        "import pandas as pd"
      ]
    },
    {
      "cell_type": "code",
      "source": [
        "retail = pd.read_csv('twentyeleven.csv')"
      ],
      "metadata": {
        "id": "vcufVGaS7VQb"
      },
      "execution_count": 2,
      "outputs": []
    },
    {
      "cell_type": "code",
      "source": [
        "retail.info() # Print information about the retail dataframe"
      ],
      "metadata": {
        "colab": {
          "base_uri": "https://localhost:8080/"
        },
        "id": "EtDoEGnl8UCc",
        "outputId": "a866ae7b-a96c-4ead-dfb8-4f91a8edf5dc"
      },
      "execution_count": 4,
      "outputs": [
        {
          "output_type": "stream",
          "name": "stdout",
          "text": [
            "<class 'pandas.core.frame.DataFrame'>\n",
            "RangeIndex: 338849 entries, 0 to 338848\n",
            "Data columns (total 11 columns):\n",
            " #   Column       Non-Null Count   Dtype  \n",
            "---  ------       --------------   -----  \n",
            " 0   Invoice      338848 non-null  float64\n",
            " 1   StockCode    338849 non-null  object \n",
            " 2   Description  338849 non-null  object \n",
            " 3   Quantity     338848 non-null  float64\n",
            " 4   InvoiceDate  338848 non-null  object \n",
            " 5   Price        338848 non-null  float64\n",
            " 6   Customer ID  255407 non-null  float64\n",
            " 7   Country      338848 non-null  object \n",
            " 8   date         338848 non-null  object \n",
            " 9   revenue      338848 non-null  float64\n",
            " 10  year         338848 non-null  float64\n",
            "dtypes: float64(6), object(5)\n",
            "memory usage: 28.4+ MB\n"
          ]
        }
      ]
    },
    {
      "cell_type": "code",
      "source": [
        "# We are take the InvoiceDate column from the `retail` dataframe.\n",
        "# Take the InvoiceDate data and convert it into datetime.\n",
        "retail['InvoiceDate'] = pd.to_datetime(retail['InvoiceDate'])"
      ],
      "metadata": {
        "id": "cKuKuCAw9AiF"
      },
      "execution_count": 8,
      "outputs": []
    },
    {
      "cell_type": "code",
      "source": [
        "# Add a new column called `daysofweek` and add it to the dataframe.\n",
        "# Get the day of the week each purchase was made.\n",
        "# Monday = 0, Sunday = 6\n",
        "retail['daysofweek'] = retail['InvoiceDate'].dt.dayofweek"
      ],
      "metadata": {
        "id": "KdYzwQIX-x6w"
      },
      "execution_count": 10,
      "outputs": []
    },
    {
      "cell_type": "code",
      "source": [
        "# Count the number of occurences for each unique value\n",
        "# It looks like no purchase was made during a Saturday (5.0)\n",
        "retail['daysofweek'].value_counts()"
      ],
      "metadata": {
        "colab": {
          "base_uri": "https://localhost:8080/"
        },
        "id": "XuLaEmnA_tnO",
        "outputId": "108506db-3862-489b-a4bc-1fddcf1d09b5"
      },
      "execution_count": 12,
      "outputs": [
        {
          "output_type": "execute_result",
          "data": {
            "text/plain": [
              "daysofweek\n",
              "1.0    66283\n",
              "3.0    65541\n",
              "2.0    59823\n",
              "0.0    58955\n",
              "4.0    50038\n",
              "6.0    38208\n",
              "Name: count, dtype: int64"
            ]
          },
          "metadata": {},
          "execution_count": 12
        }
      ]
    },
    {
      "cell_type": "code",
      "source": [
        "# Create a new column called `date` in the retail dataframe.\n",
        "# Take the dates from `InvoiceDate` and set it into the string format of YYYY-MM-DD\n",
        "retail['date'] = retail['InvoiceDate'].dt.strftime('%Y-%m-%d')"
      ],
      "metadata": {
        "id": "h9up2i75AUQs"
      },
      "execution_count": 14,
      "outputs": []
    },
    {
      "cell_type": "code",
      "source": [
        "# Convert the string format back into Date Time format.\n",
        "# Why? So that I can do date calculations\n",
        "retail['date'] = pd.to_datetime(retail['date'])"
      ],
      "metadata": {
        "id": "amfwc970BGBD"
      },
      "execution_count": 16,
      "outputs": []
    }
  ]
}