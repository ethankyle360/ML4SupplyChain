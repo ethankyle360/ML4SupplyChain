{
  "nbformat": 4,
  "nbformat_minor": 0,
  "metadata": {
    "colab": {
      "provenance": [],
      "authorship_tag": "ABX9TyNejulxSCdkhefoRjtwYTuv",
      "include_colab_link": true
    },
    "kernelspec": {
      "name": "python3",
      "display_name": "Python 3"
    },
    "language_info": {
      "name": "python"
    }
  },
  "cells": [
    {
      "cell_type": "markdown",
      "metadata": {
        "id": "view-in-github",
        "colab_type": "text"
      },
      "source": [
        "<a href=\"https://colab.research.google.com/github/ethankyle360/ML4SupplyChain/blob/main/section_12_assignment.ipynb\" target=\"_parent\"><img src=\"https://colab.research.google.com/assets/colab-badge.svg\" alt=\"Open In Colab\"/></a>"
      ]
    },
    {
      "cell_type": "markdown",
      "source": [
        "Assignment: Work on the 2011 dataset for a UK retailer.\n",
        "\n",
        "Objective: Characterize how many products are lumpy, intermittent, smooth and erratic."
      ],
      "metadata": {
        "id": "T0CWWalJ6lMv"
      }
    },
    {
      "cell_type": "code",
      "execution_count": 21,
      "metadata": {
        "id": "jAoL6txy6guN"
      },
      "outputs": [],
      "source": [
        "import pandas as pd"
      ]
    },
    {
      "cell_type": "code",
      "source": [
        "retail = pd.read_csv('twentyeleven.csv')"
      ],
      "metadata": {
        "id": "vcufVGaS7VQb"
      },
      "execution_count": 22,
      "outputs": []
    },
    {
      "cell_type": "code",
      "source": [
        "retail.info() # Print information about the retail DataFrame."
      ],
      "metadata": {
        "colab": {
          "base_uri": "https://localhost:8080/"
        },
        "id": "EtDoEGnl8UCc",
        "outputId": "91017aac-0bff-4a76-f3b5-61130699c402"
      },
      "execution_count": 24,
      "outputs": [
        {
          "output_type": "stream",
          "name": "stdout",
          "text": [
            "<class 'pandas.core.frame.DataFrame'>\n",
            "RangeIndex: 484330 entries, 0 to 484329\n",
            "Data columns (total 11 columns):\n",
            " #   Column       Non-Null Count   Dtype  \n",
            "---  ------       --------------   -----  \n",
            " 0   Invoice      484329 non-null  float64\n",
            " 1   StockCode    484330 non-null  object \n",
            " 2   Description  484330 non-null  object \n",
            " 3   Quantity     484330 non-null  int64  \n",
            " 4   InvoiceDate  484330 non-null  object \n",
            " 5   Price        484330 non-null  float64\n",
            " 6   Customer ID  367058 non-null  float64\n",
            " 7   Country      484330 non-null  object \n",
            " 8   date         484330 non-null  object \n",
            " 9   revenue      484330 non-null  float64\n",
            " 10  year         484330 non-null  int64  \n",
            "dtypes: float64(4), int64(2), object(5)\n",
            "memory usage: 40.6+ MB\n"
          ]
        }
      ]
    },
    {
      "cell_type": "code",
      "source": [
        "# We are take the InvoiceDate column from the `retail` DataFrame.\n",
        "# Take the InvoiceDate data and convert it into datetime.\n",
        "retail['InvoiceDate'] = pd.to_datetime(retail['InvoiceDate'])"
      ],
      "metadata": {
        "id": "cKuKuCAw9AiF"
      },
      "execution_count": 25,
      "outputs": []
    },
    {
      "cell_type": "code",
      "source": [
        "# Add a new column called `daysofweek` and add it to the DataFrame.\n",
        "# Get the day of the week each purchase was made.\n",
        "# Monday = 0, Sunday = 6\n",
        "retail['daysofweek'] = retail['InvoiceDate'].dt.dayofweek"
      ],
      "metadata": {
        "id": "KdYzwQIX-x6w"
      },
      "execution_count": 26,
      "outputs": []
    },
    {
      "cell_type": "code",
      "source": [
        "# Count the number of occurences for each unique value\n",
        "# It looks like no purchase was made during a Saturday (5.0)\n",
        "retail['daysofweek'].value_counts()"
      ],
      "metadata": {
        "colab": {
          "base_uri": "https://localhost:8080/"
        },
        "id": "XuLaEmnA_tnO",
        "outputId": "64d4cf2e-20fc-42b7-edd1-2cf79180b3f8"
      },
      "execution_count": 27,
      "outputs": [
        {
          "output_type": "execute_result",
          "data": {
            "text/plain": [
              "daysofweek\n",
              "3    92832\n",
              "1    92491\n",
              "0    84860\n",
              "2    84439\n",
              "4    71849\n",
              "6    57859\n",
              "Name: count, dtype: int64"
            ]
          },
          "metadata": {},
          "execution_count": 27
        }
      ]
    },
    {
      "cell_type": "code",
      "source": [
        "# Create a new column called `date` in the retail DataFrame.\n",
        "# Take the dates from `InvoiceDate` and set it into the string format of YYYY-MM-DD\n",
        "retail['date'] = retail['InvoiceDate'].dt.strftime('%Y-%m-%d')"
      ],
      "metadata": {
        "id": "h9up2i75AUQs"
      },
      "execution_count": 28,
      "outputs": []
    },
    {
      "cell_type": "code",
      "source": [
        "# Convert the string format back into Date Time format.\n",
        "# Why? So that I can do date calculations\n",
        "retail['date'] = pd.to_datetime(retail['date'])"
      ],
      "metadata": {
        "id": "amfwc970BGBD"
      },
      "execution_count": 29,
      "outputs": []
    },
    {
      "cell_type": "markdown",
      "source": [
        "#### CV2 and the average demand interval"
      ],
      "metadata": {
        "id": "2jDdBjocCilp"
      }
    },
    {
      "cell_type": "code",
      "source": [
        "# Look at all transactions for each product on each date separately.\n",
        "# Sum up `Quantity` of items sold and store it in a new column called `total_sales`\n",
        "# Convert it back into a regular DataFrame.\n",
        "retail_grouped = retail.groupby(['Description', 'date']).agg(total_sales=('Quantity', 'sum')).reset_index()\n",
        "\n",
        "# Group the new data by `Description` (product name) only.\n",
        "# For each product, calculate the mean and standard deviation.\n",
        "# Convert the grouped data back into a regular DataFrame with a new index.\n",
        "cv_data = retail_grouped.groupby('Description').agg(average=('total_sales', 'mean'), sd=('total_sales', 'std')).reset_index()"
      ],
      "metadata": {
        "id": "4tGY90SACmq8"
      },
      "execution_count": 31,
      "outputs": []
    },
    {
      "cell_type": "code",
      "source": [
        "# The coefficient of variation (CV) helps me understand which products have more consistent sales and which have more variability.\n",
        "cv_data['cv_squared'] = (cv_data['sd']/cv_data['average'])**2"
      ],
      "metadata": {
        "id": "JZJO4sF5FSYQ"
      },
      "execution_count": 35,
      "outputs": []
    },
    {
      "cell_type": "markdown",
      "source": [
        "#### Average Demand Interval per Product"
      ],
      "metadata": {
        "id": "Doy6dF5tGaz6"
      }
    },
    {
      "cell_type": "code",
      "source": [
        "product_by_date = retail.groupby(['Description', 'date']).agg(total_sales=('Description', 'count')).reset_index()"
      ],
      "metadata": {
        "id": "04xXe77fGhYq"
      },
      "execution_count": 36,
      "outputs": []
    },
    {
      "cell_type": "code",
      "source": [
        "retail[['Description', 'date']].drop_duplicates()"
      ],
      "metadata": {
        "colab": {
          "base_uri": "https://localhost:8080/",
          "height": 424
        },
        "id": "3pZX1b55KiSH",
        "outputId": "7999192c-5340-46c8-ee21-4bb7960997d6"
      },
      "execution_count": 39,
      "outputs": [
        {
          "output_type": "execute_result",
          "data": {
            "text/plain": [
              "                           Description       date\n",
              "0              JUMBO BAG PINK POLKADOT 2011-01-04\n",
              "1                   BLUE POLKADOT WRAP 2011-01-04\n",
              "2                   RED RETROSPOT WRAP 2011-01-04\n",
              "3              RECYCLING BAG RETROSPOT 2011-01-04\n",
              "4            RED RETROSPOT SHOPPER BAG 2011-01-04\n",
              "...                                ...        ...\n",
              "484308  ZINC T-LIGHT HOLDER STAR LARGE 2011-12-09\n",
              "484313           DOORMAT RED RETROSPOT 2011-12-09\n",
              "484323      CHILDRENS CUTLERY SPACEBOY 2011-12-09\n",
              "484324     PACK OF 20 SPACEBOY NAPKINS 2011-12-09\n",
              "484326    CHILDRENS CUTLERY DOLLY GIRL 2011-12-09\n",
              "\n",
              "[255720 rows x 2 columns]"
            ],
            "text/html": [
              "\n",
              "  <div id=\"df-eb843240-caea-4845-a67b-c31e25a2aece\" class=\"colab-df-container\">\n",
              "    <div>\n",
              "<style scoped>\n",
              "    .dataframe tbody tr th:only-of-type {\n",
              "        vertical-align: middle;\n",
              "    }\n",
              "\n",
              "    .dataframe tbody tr th {\n",
              "        vertical-align: top;\n",
              "    }\n",
              "\n",
              "    .dataframe thead th {\n",
              "        text-align: right;\n",
              "    }\n",
              "</style>\n",
              "<table border=\"1\" class=\"dataframe\">\n",
              "  <thead>\n",
              "    <tr style=\"text-align: right;\">\n",
              "      <th></th>\n",
              "      <th>Description</th>\n",
              "      <th>date</th>\n",
              "    </tr>\n",
              "  </thead>\n",
              "  <tbody>\n",
              "    <tr>\n",
              "      <th>0</th>\n",
              "      <td>JUMBO BAG PINK POLKADOT</td>\n",
              "      <td>2011-01-04</td>\n",
              "    </tr>\n",
              "    <tr>\n",
              "      <th>1</th>\n",
              "      <td>BLUE POLKADOT WRAP</td>\n",
              "      <td>2011-01-04</td>\n",
              "    </tr>\n",
              "    <tr>\n",
              "      <th>2</th>\n",
              "      <td>RED RETROSPOT WRAP</td>\n",
              "      <td>2011-01-04</td>\n",
              "    </tr>\n",
              "    <tr>\n",
              "      <th>3</th>\n",
              "      <td>RECYCLING BAG RETROSPOT</td>\n",
              "      <td>2011-01-04</td>\n",
              "    </tr>\n",
              "    <tr>\n",
              "      <th>4</th>\n",
              "      <td>RED RETROSPOT SHOPPER BAG</td>\n",
              "      <td>2011-01-04</td>\n",
              "    </tr>\n",
              "    <tr>\n",
              "      <th>...</th>\n",
              "      <td>...</td>\n",
              "      <td>...</td>\n",
              "    </tr>\n",
              "    <tr>\n",
              "      <th>484308</th>\n",
              "      <td>ZINC T-LIGHT HOLDER STAR LARGE</td>\n",
              "      <td>2011-12-09</td>\n",
              "    </tr>\n",
              "    <tr>\n",
              "      <th>484313</th>\n",
              "      <td>DOORMAT RED RETROSPOT</td>\n",
              "      <td>2011-12-09</td>\n",
              "    </tr>\n",
              "    <tr>\n",
              "      <th>484323</th>\n",
              "      <td>CHILDRENS CUTLERY SPACEBOY</td>\n",
              "      <td>2011-12-09</td>\n",
              "    </tr>\n",
              "    <tr>\n",
              "      <th>484324</th>\n",
              "      <td>PACK OF 20 SPACEBOY NAPKINS</td>\n",
              "      <td>2011-12-09</td>\n",
              "    </tr>\n",
              "    <tr>\n",
              "      <th>484326</th>\n",
              "      <td>CHILDRENS CUTLERY DOLLY GIRL</td>\n",
              "      <td>2011-12-09</td>\n",
              "    </tr>\n",
              "  </tbody>\n",
              "</table>\n",
              "<p>255720 rows × 2 columns</p>\n",
              "</div>\n",
              "    <div class=\"colab-df-buttons\">\n",
              "\n",
              "  <div class=\"colab-df-container\">\n",
              "    <button class=\"colab-df-convert\" onclick=\"convertToInteractive('df-eb843240-caea-4845-a67b-c31e25a2aece')\"\n",
              "            title=\"Convert this dataframe to an interactive table.\"\n",
              "            style=\"display:none;\">\n",
              "\n",
              "  <svg xmlns=\"http://www.w3.org/2000/svg\" height=\"24px\" viewBox=\"0 -960 960 960\">\n",
              "    <path d=\"M120-120v-720h720v720H120Zm60-500h600v-160H180v160Zm220 220h160v-160H400v160Zm0 220h160v-160H400v160ZM180-400h160v-160H180v160Zm440 0h160v-160H620v160ZM180-180h160v-160H180v160Zm440 0h160v-160H620v160Z\"/>\n",
              "  </svg>\n",
              "    </button>\n",
              "\n",
              "  <style>\n",
              "    .colab-df-container {\n",
              "      display:flex;\n",
              "      gap: 12px;\n",
              "    }\n",
              "\n",
              "    .colab-df-convert {\n",
              "      background-color: #E8F0FE;\n",
              "      border: none;\n",
              "      border-radius: 50%;\n",
              "      cursor: pointer;\n",
              "      display: none;\n",
              "      fill: #1967D2;\n",
              "      height: 32px;\n",
              "      padding: 0 0 0 0;\n",
              "      width: 32px;\n",
              "    }\n",
              "\n",
              "    .colab-df-convert:hover {\n",
              "      background-color: #E2EBFA;\n",
              "      box-shadow: 0px 1px 2px rgba(60, 64, 67, 0.3), 0px 1px 3px 1px rgba(60, 64, 67, 0.15);\n",
              "      fill: #174EA6;\n",
              "    }\n",
              "\n",
              "    .colab-df-buttons div {\n",
              "      margin-bottom: 4px;\n",
              "    }\n",
              "\n",
              "    [theme=dark] .colab-df-convert {\n",
              "      background-color: #3B4455;\n",
              "      fill: #D2E3FC;\n",
              "    }\n",
              "\n",
              "    [theme=dark] .colab-df-convert:hover {\n",
              "      background-color: #434B5C;\n",
              "      box-shadow: 0px 1px 3px 1px rgba(0, 0, 0, 0.15);\n",
              "      filter: drop-shadow(0px 1px 2px rgba(0, 0, 0, 0.3));\n",
              "      fill: #FFFFFF;\n",
              "    }\n",
              "  </style>\n",
              "\n",
              "    <script>\n",
              "      const buttonEl =\n",
              "        document.querySelector('#df-eb843240-caea-4845-a67b-c31e25a2aece button.colab-df-convert');\n",
              "      buttonEl.style.display =\n",
              "        google.colab.kernel.accessAllowed ? 'block' : 'none';\n",
              "\n",
              "      async function convertToInteractive(key) {\n",
              "        const element = document.querySelector('#df-eb843240-caea-4845-a67b-c31e25a2aece');\n",
              "        const dataTable =\n",
              "          await google.colab.kernel.invokeFunction('convertToInteractive',\n",
              "                                                    [key], {});\n",
              "        if (!dataTable) return;\n",
              "\n",
              "        const docLinkHtml = 'Like what you see? Visit the ' +\n",
              "          '<a target=\"_blank\" href=https://colab.research.google.com/notebooks/data_table.ipynb>data table notebook</a>'\n",
              "          + ' to learn more about interactive tables.';\n",
              "        element.innerHTML = '';\n",
              "        dataTable['output_type'] = 'display_data';\n",
              "        await google.colab.output.renderOutput(dataTable, element);\n",
              "        const docLink = document.createElement('div');\n",
              "        docLink.innerHTML = docLinkHtml;\n",
              "        element.appendChild(docLink);\n",
              "      }\n",
              "    </script>\n",
              "  </div>\n",
              "\n",
              "\n",
              "<div id=\"df-0a305356-6700-4724-a184-30443c22f378\">\n",
              "  <button class=\"colab-df-quickchart\" onclick=\"quickchart('df-0a305356-6700-4724-a184-30443c22f378')\"\n",
              "            title=\"Suggest charts\"\n",
              "            style=\"display:none;\">\n",
              "\n",
              "<svg xmlns=\"http://www.w3.org/2000/svg\" height=\"24px\"viewBox=\"0 0 24 24\"\n",
              "     width=\"24px\">\n",
              "    <g>\n",
              "        <path d=\"M19 3H5c-1.1 0-2 .9-2 2v14c0 1.1.9 2 2 2h14c1.1 0 2-.9 2-2V5c0-1.1-.9-2-2-2zM9 17H7v-7h2v7zm4 0h-2V7h2v10zm4 0h-2v-4h2v4z\"/>\n",
              "    </g>\n",
              "</svg>\n",
              "  </button>\n",
              "\n",
              "<style>\n",
              "  .colab-df-quickchart {\n",
              "      --bg-color: #E8F0FE;\n",
              "      --fill-color: #1967D2;\n",
              "      --hover-bg-color: #E2EBFA;\n",
              "      --hover-fill-color: #174EA6;\n",
              "      --disabled-fill-color: #AAA;\n",
              "      --disabled-bg-color: #DDD;\n",
              "  }\n",
              "\n",
              "  [theme=dark] .colab-df-quickchart {\n",
              "      --bg-color: #3B4455;\n",
              "      --fill-color: #D2E3FC;\n",
              "      --hover-bg-color: #434B5C;\n",
              "      --hover-fill-color: #FFFFFF;\n",
              "      --disabled-bg-color: #3B4455;\n",
              "      --disabled-fill-color: #666;\n",
              "  }\n",
              "\n",
              "  .colab-df-quickchart {\n",
              "    background-color: var(--bg-color);\n",
              "    border: none;\n",
              "    border-radius: 50%;\n",
              "    cursor: pointer;\n",
              "    display: none;\n",
              "    fill: var(--fill-color);\n",
              "    height: 32px;\n",
              "    padding: 0;\n",
              "    width: 32px;\n",
              "  }\n",
              "\n",
              "  .colab-df-quickchart:hover {\n",
              "    background-color: var(--hover-bg-color);\n",
              "    box-shadow: 0 1px 2px rgba(60, 64, 67, 0.3), 0 1px 3px 1px rgba(60, 64, 67, 0.15);\n",
              "    fill: var(--button-hover-fill-color);\n",
              "  }\n",
              "\n",
              "  .colab-df-quickchart-complete:disabled,\n",
              "  .colab-df-quickchart-complete:disabled:hover {\n",
              "    background-color: var(--disabled-bg-color);\n",
              "    fill: var(--disabled-fill-color);\n",
              "    box-shadow: none;\n",
              "  }\n",
              "\n",
              "  .colab-df-spinner {\n",
              "    border: 2px solid var(--fill-color);\n",
              "    border-color: transparent;\n",
              "    border-bottom-color: var(--fill-color);\n",
              "    animation:\n",
              "      spin 1s steps(1) infinite;\n",
              "  }\n",
              "\n",
              "  @keyframes spin {\n",
              "    0% {\n",
              "      border-color: transparent;\n",
              "      border-bottom-color: var(--fill-color);\n",
              "      border-left-color: var(--fill-color);\n",
              "    }\n",
              "    20% {\n",
              "      border-color: transparent;\n",
              "      border-left-color: var(--fill-color);\n",
              "      border-top-color: var(--fill-color);\n",
              "    }\n",
              "    30% {\n",
              "      border-color: transparent;\n",
              "      border-left-color: var(--fill-color);\n",
              "      border-top-color: var(--fill-color);\n",
              "      border-right-color: var(--fill-color);\n",
              "    }\n",
              "    40% {\n",
              "      border-color: transparent;\n",
              "      border-right-color: var(--fill-color);\n",
              "      border-top-color: var(--fill-color);\n",
              "    }\n",
              "    60% {\n",
              "      border-color: transparent;\n",
              "      border-right-color: var(--fill-color);\n",
              "    }\n",
              "    80% {\n",
              "      border-color: transparent;\n",
              "      border-right-color: var(--fill-color);\n",
              "      border-bottom-color: var(--fill-color);\n",
              "    }\n",
              "    90% {\n",
              "      border-color: transparent;\n",
              "      border-bottom-color: var(--fill-color);\n",
              "    }\n",
              "  }\n",
              "</style>\n",
              "\n",
              "  <script>\n",
              "    async function quickchart(key) {\n",
              "      const quickchartButtonEl =\n",
              "        document.querySelector('#' + key + ' button');\n",
              "      quickchartButtonEl.disabled = true;  // To prevent multiple clicks.\n",
              "      quickchartButtonEl.classList.add('colab-df-spinner');\n",
              "      try {\n",
              "        const charts = await google.colab.kernel.invokeFunction(\n",
              "            'suggestCharts', [key], {});\n",
              "      } catch (error) {\n",
              "        console.error('Error during call to suggestCharts:', error);\n",
              "      }\n",
              "      quickchartButtonEl.classList.remove('colab-df-spinner');\n",
              "      quickchartButtonEl.classList.add('colab-df-quickchart-complete');\n",
              "    }\n",
              "    (() => {\n",
              "      let quickchartButtonEl =\n",
              "        document.querySelector('#df-0a305356-6700-4724-a184-30443c22f378 button');\n",
              "      quickchartButtonEl.style.display =\n",
              "        google.colab.kernel.accessAllowed ? 'block' : 'none';\n",
              "    })();\n",
              "  </script>\n",
              "</div>\n",
              "\n",
              "    </div>\n",
              "  </div>\n"
            ],
            "application/vnd.google.colaboratory.intrinsic+json": {
              "type": "dataframe"
            }
          },
          "metadata": {},
          "execution_count": 39
        }
      ]
    },
    {
      "cell_type": "code",
      "source": [
        "skus = product_by_date.Description.unique()\n",
        "# Get a list of each unique product.\n",
        "skus"
      ],
      "metadata": {
        "colab": {
          "base_uri": "https://localhost:8080/"
        },
        "id": "CgWEjoE1KOY6",
        "outputId": "bad3f42d-f719-4b40-dd34-6ab3be090717"
      },
      "execution_count": 44,
      "outputs": [
        {
          "output_type": "execute_result",
          "data": {
            "text/plain": [
              "array(['10 COLOUR SPACEBOY PEN', '12 COLOURED PARTY BALLOONS',\n",
              "       '12 DAISY PEGS IN WOOD BOX', ..., 'wrongly marked',\n",
              "       'wrongly marked 23343', 'wrongly sold (22719) barcode'],\n",
              "      dtype=object)"
            ]
          },
          "metadata": {},
          "execution_count": 44
        }
      ]
    },
    {
      "cell_type": "code",
      "source": [
        "# Create an empty dataframe.\n",
        "empty_dataframe = pd.DataFrame()"
      ],
      "metadata": {
        "id": "XfvTFSoPKUhB"
      },
      "execution_count": 45,
      "outputs": []
    }
  ]
}