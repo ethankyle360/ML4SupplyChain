{
  "nbformat": 4,
  "nbformat_minor": 0,
  "metadata": {
    "colab": {
      "provenance": [],
      "authorship_tag": "ABX9TyPRFvKPTcs5BPl9H5vGa00x",
      "include_colab_link": true
    },
    "kernelspec": {
      "name": "python3",
      "display_name": "Python 3"
    },
    "language_info": {
      "name": "python"
    }
  },
  "cells": [
    {
      "cell_type": "markdown",
      "metadata": {
        "id": "view-in-github",
        "colab_type": "text"
      },
      "source": [
        "<a href=\"https://colab.research.google.com/github/ethankyle360/ML4SupplyChain/blob/main/section_12_assignment.ipynb\" target=\"_parent\"><img src=\"https://colab.research.google.com/assets/colab-badge.svg\" alt=\"Open In Colab\"/></a>"
      ]
    },
    {
      "cell_type": "markdown",
      "source": [
        "Assignment: Work on the 2011 dataset for a UK retailer.\n",
        "\n",
        "Objective: Characterize how many products are lumpy, intermittent, smooth and erratic."
      ],
      "metadata": {
        "id": "T0CWWalJ6lMv"
      }
    },
    {
      "cell_type": "code",
      "execution_count": 21,
      "metadata": {
        "id": "jAoL6txy6guN"
      },
      "outputs": [],
      "source": [
        "import pandas as pd"
      ]
    },
    {
      "cell_type": "code",
      "source": [
        "retail = pd.read_csv('twentyeleven.csv')"
      ],
      "metadata": {
        "id": "vcufVGaS7VQb"
      },
      "execution_count": 22,
      "outputs": []
    },
    {
      "cell_type": "code",
      "source": [
        "retail.info() # Print information about the retail DataFrame."
      ],
      "metadata": {
        "colab": {
          "base_uri": "https://localhost:8080/"
        },
        "id": "EtDoEGnl8UCc",
        "outputId": "91017aac-0bff-4a76-f3b5-61130699c402"
      },
      "execution_count": 24,
      "outputs": [
        {
          "output_type": "stream",
          "name": "stdout",
          "text": [
            "<class 'pandas.core.frame.DataFrame'>\n",
            "RangeIndex: 484330 entries, 0 to 484329\n",
            "Data columns (total 11 columns):\n",
            " #   Column       Non-Null Count   Dtype  \n",
            "---  ------       --------------   -----  \n",
            " 0   Invoice      484329 non-null  float64\n",
            " 1   StockCode    484330 non-null  object \n",
            " 2   Description  484330 non-null  object \n",
            " 3   Quantity     484330 non-null  int64  \n",
            " 4   InvoiceDate  484330 non-null  object \n",
            " 5   Price        484330 non-null  float64\n",
            " 6   Customer ID  367058 non-null  float64\n",
            " 7   Country      484330 non-null  object \n",
            " 8   date         484330 non-null  object \n",
            " 9   revenue      484330 non-null  float64\n",
            " 10  year         484330 non-null  int64  \n",
            "dtypes: float64(4), int64(2), object(5)\n",
            "memory usage: 40.6+ MB\n"
          ]
        }
      ]
    },
    {
      "cell_type": "code",
      "source": [
        "# We are take the InvoiceDate column from the `retail` DataFrame.\n",
        "# Take the InvoiceDate data and convert it into datetime.\n",
        "retail['InvoiceDate'] = pd.to_datetime(retail['InvoiceDate'])"
      ],
      "metadata": {
        "id": "cKuKuCAw9AiF"
      },
      "execution_count": 25,
      "outputs": []
    },
    {
      "cell_type": "code",
      "source": [
        "# Add a new column called `daysofweek` and add it to the DataFrame.\n",
        "# Get the day of the week each purchase was made.\n",
        "# Monday = 0, Sunday = 6\n",
        "retail['daysofweek'] = retail['InvoiceDate'].dt.dayofweek"
      ],
      "metadata": {
        "id": "KdYzwQIX-x6w"
      },
      "execution_count": 26,
      "outputs": []
    },
    {
      "cell_type": "code",
      "source": [
        "# Count the number of occurences for each unique value\n",
        "# It looks like no purchase was made during a Saturday (5.0)\n",
        "retail['daysofweek'].value_counts()"
      ],
      "metadata": {
        "colab": {
          "base_uri": "https://localhost:8080/"
        },
        "id": "XuLaEmnA_tnO",
        "outputId": "64d4cf2e-20fc-42b7-edd1-2cf79180b3f8"
      },
      "execution_count": 27,
      "outputs": [
        {
          "output_type": "execute_result",
          "data": {
            "text/plain": [
              "daysofweek\n",
              "3    92832\n",
              "1    92491\n",
              "0    84860\n",
              "2    84439\n",
              "4    71849\n",
              "6    57859\n",
              "Name: count, dtype: int64"
            ]
          },
          "metadata": {},
          "execution_count": 27
        }
      ]
    },
    {
      "cell_type": "code",
      "source": [
        "# Create a new column called `date` in the retail DataFrame.\n",
        "# Take the dates from `InvoiceDate` and set it into the string format of YYYY-MM-DD\n",
        "retail['date'] = retail['InvoiceDate'].dt.strftime('%Y-%m-%d')"
      ],
      "metadata": {
        "id": "h9up2i75AUQs"
      },
      "execution_count": 28,
      "outputs": []
    },
    {
      "cell_type": "code",
      "source": [
        "# Convert the string format back into Date Time format.\n",
        "# Why? So that I can do date calculations\n",
        "retail['date'] = pd.to_datetime(retail['date'])"
      ],
      "metadata": {
        "id": "amfwc970BGBD"
      },
      "execution_count": 29,
      "outputs": []
    },
    {
      "cell_type": "markdown",
      "source": [
        "#### CV2 and the average demand interval"
      ],
      "metadata": {
        "id": "2jDdBjocCilp"
      }
    },
    {
      "cell_type": "code",
      "source": [
        "# Look at all transactions for each product on each date separately.\n",
        "# Sum up `Quantity` of items sold and store it in a new column called `total_sales`\n",
        "# Convert it back into a regular DataFrame.\n",
        "retail_grouped = retail.groupby(['Description', 'date']).agg(total_sales=('Quantity', 'sum')).reset_index()\n",
        "\n",
        "# Group the new data by `Description` (product name) only.\n",
        "# For each product, calculate the mean and standard deviation.\n",
        "# Convert the grouped data back into a regular DataFrame with a new index.\n",
        "cv_data = retail_grouped.groupby('Description').agg(average=('total_sales', 'mean'), sd=('total_sales', 'std')).reset_index()"
      ],
      "metadata": {
        "id": "4tGY90SACmq8"
      },
      "execution_count": 31,
      "outputs": []
    },
    {
      "cell_type": "code",
      "source": [
        "# The coefficient of variation (CV) helps me understand which products have more consistent sales and which have more variability.\n",
        "cv_data['cv_squared'] = (cv_data['sd']/cv_data['average'])**2"
      ],
      "metadata": {
        "id": "JZJO4sF5FSYQ"
      },
      "execution_count": 35,
      "outputs": []
    },
    {
      "cell_type": "markdown",
      "source": [
        "#### Average Demand Interval per Product"
      ],
      "metadata": {
        "id": "Doy6dF5tGaz6"
      }
    },
    {
      "cell_type": "code",
      "source": [],
      "metadata": {
        "id": "04xXe77fGhYq"
      },
      "execution_count": null,
      "outputs": []
    }
  ]
}