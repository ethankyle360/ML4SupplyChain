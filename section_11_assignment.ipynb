{
  "nbformat": 4,
  "nbformat_minor": 0,
  "metadata": {
    "colab": {
      "provenance": [],
      "authorship_tag": "ABX9TyPUvMuiDs+TdxJvJbFYvjib",
      "include_colab_link": true
    },
    "kernelspec": {
      "name": "python3",
      "display_name": "Python 3"
    },
    "language_info": {
      "name": "python"
    }
  },
  "cells": [
    {
      "cell_type": "markdown",
      "metadata": {
        "id": "view-in-github",
        "colab_type": "text"
      },
      "source": [
        "<a href=\"https://colab.research.google.com/github/ethankyle360/ML4SupplyChain/blob/main/section_11_assignment.ipynb\" target=\"_parent\"><img src=\"https://colab.research.google.com/assets/colab-badge.svg\" alt=\"Open In Colab\"/></a>"
      ]
    },
    {
      "cell_type": "markdown",
      "source": [
        "# Time Series Assignment\n",
        "\n",
        "### We will work on the sales of the UK retailer. Our aim is to analyze the seasonal and trend components for the monthly time series, then compare with seasonal ARIMA models and exponential smoothing model and agree for the best model for our time series."
      ],
      "metadata": {
        "id": "w9-m4rG5FrVt"
      }
    },
    {
      "cell_type": "code",
      "execution_count": null,
      "metadata": {
        "id": "nrh3ZhqTFjM0"
      },
      "outputs": [],
      "source": [
        "#1 - Convert retail clean to monthly time series of total sales per month."
      ]
    },
    {
      "cell_type": "code",
      "source": [
        "#2 - Make a plot for the trend, seasonality, and the remainder."
      ],
      "metadata": {
        "id": "KHvqz5HLGXHm"
      },
      "execution_count": null,
      "outputs": []
    },
    {
      "cell_type": "code",
      "source": [
        "#3 - Fit the time series to a moving average model, what is the AIC?"
      ],
      "metadata": {
        "id": "870_hDNjGdhs"
      },
      "execution_count": null,
      "outputs": []
    },
    {
      "cell_type": "code",
      "source": [
        "#4 - Fit the time series to an AR model, what is the AIC?"
      ],
      "metadata": {
        "id": "iECJKPe_GkMw"
      },
      "execution_count": null,
      "outputs": []
    },
    {
      "cell_type": "code",
      "source": [
        "#5 - Fit the time series to an ARIMA model, what is the AIC?"
      ],
      "metadata": {
        "id": "lE6M3pMTGsjb"
      },
      "execution_count": null,
      "outputs": []
    },
    {
      "cell_type": "code",
      "source": [
        "#6 - Do a search on the SARIMA components using intercools, what is the model with the lowest AIC?"
      ],
      "metadata": {
        "id": "VdhLBp_4G6Ga"
      },
      "execution_count": null,
      "outputs": []
    },
    {
      "cell_type": "code",
      "source": [
        "#7 - Make a plot with a forecast of 12 month ahead using the best fitted SARIMA."
      ],
      "metadata": {
        "id": "EvDS_Ts4HGug"
      },
      "execution_count": null,
      "outputs": []
    },
    {
      "cell_type": "code",
      "source": [
        "#8 - Make an exponential fitting using the combinations of the multiplicative and additive trend."
      ],
      "metadata": {
        "id": "_hvzY3zFHQAD"
      },
      "execution_count": null,
      "outputs": []
    },
    {
      "cell_type": "code",
      "source": [
        "#9 - Compare the best fitted exponential and the best fitted ARIMA in terms of RMSE and MAE."
      ],
      "metadata": {
        "id": "4oiottYaHYFz"
      },
      "execution_count": null,
      "outputs": []
    },
    {
      "cell_type": "code",
      "source": [
        "#10 - Which model you would go for at the end?"
      ],
      "metadata": {
        "id": "VqEbrQg-Hip6"
      },
      "execution_count": null,
      "outputs": []
    }
  ]
}