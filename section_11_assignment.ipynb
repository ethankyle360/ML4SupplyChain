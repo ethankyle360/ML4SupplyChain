{
  "nbformat": 4,
  "nbformat_minor": 0,
  "metadata": {
    "colab": {
      "provenance": [],
      "authorship_tag": "ABX9TyMgjhUGJMzN7xQPH7A0Br6P",
      "include_colab_link": true
    },
    "kernelspec": {
      "name": "python3",
      "display_name": "Python 3"
    },
    "language_info": {
      "name": "python"
    }
  },
  "cells": [
    {
      "cell_type": "markdown",
      "metadata": {
        "id": "view-in-github",
        "colab_type": "text"
      },
      "source": [
        "<a href=\"https://colab.research.google.com/github/ethankyle360/ML4SupplyChain/blob/main/section_11_assignment.ipynb\" target=\"_parent\"><img src=\"https://colab.research.google.com/assets/colab-badge.svg\" alt=\"Open In Colab\"/></a>"
      ]
    },
    {
      "cell_type": "markdown",
      "source": [
        "# Time Series Assignment\n",
        "\n",
        "### We will work on the sales of the UK retailer. Our aim is to analyze the seasonal and trend components for the monthly time series, then compare with seasonal ARIMA models and exponential smoothing model and agree for the best model for our time series."
      ],
      "metadata": {
        "id": "w9-m4rG5FrVt"
      }
    },
    {
      "cell_type": "code",
      "execution_count": null,
      "metadata": {
        "id": "nrh3ZhqTFjM0"
      },
      "outputs": [],
      "source": [
        "#1 - Convert retail clean to monthly time series of total sales per month."
      ]
    }
  ]
}