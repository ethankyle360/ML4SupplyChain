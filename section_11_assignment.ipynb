{
  "nbformat": 4,
  "nbformat_minor": 0,
  "metadata": {
    "colab": {
      "provenance": [],
      "authorship_tag": "ABX9TyM9c+Ula9Z1y8oxzX6h5hHL",
      "include_colab_link": true
    },
    "kernelspec": {
      "name": "python3",
      "display_name": "Python 3"
    },
    "language_info": {
      "name": "python"
    }
  },
  "cells": [
    {
      "cell_type": "markdown",
      "metadata": {
        "id": "view-in-github",
        "colab_type": "text"
      },
      "source": [
        "<a href=\"https://colab.research.google.com/github/ethankyle360/ML4SupplyChain/blob/main/section_11_assignment.ipynb\" target=\"_parent\"><img src=\"https://colab.research.google.com/assets/colab-badge.svg\" alt=\"Open In Colab\"/></a>"
      ]
    },
    {
      "cell_type": "markdown",
      "source": [
        "# Time Series Assignment\n",
        "\n",
        "### We will work on the sales of the UK retailer. Our aim is to analyze the seasonal and trend components for the monthly time series, then compare with seasonal ARIMA models and exponential smoothing model and agree for the best model for our time series."
      ],
      "metadata": {
        "id": "w9-m4rG5FrVt"
      }
    },
    {
      "cell_type": "markdown",
      "source": [
        "1 - Convert retail clean to monthly time series of total sales per month.\n",
        "\n",
        "2 - Make a plot for the trend, seasonality, and the remainder.\n",
        "\n",
        "3 - Fit the time series to a moving average model, what is the AIC?\n",
        "\n",
        "4 - Fit the time series to an AR model, what is the AIC?\n",
        "\n",
        "5 - Fit the time series to an ARIMA model, what is the AIC?\n",
        "\n",
        "6 - Do a search on the SARIMA components using intercools, what is the model with the lowest AIC?\n",
        "\n",
        "7 - Make a plot with a forecast of 12 month ahead using the best fitted SARIMA.\n",
        "\n",
        "8 - Make an exponential fitting using the combinations of the multiplicative and additive trend.\n",
        "\n",
        "9 - Compare the best fitted exponential and the best fitted ARIMA in terms of RMSE and MAE.\n",
        "\n",
        "10 - Which model you would go for at the end?"
      ],
      "metadata": {
        "id": "zldN4U53IDZj"
      }
    },
    {
      "cell_type": "code",
      "execution_count": 1,
      "metadata": {
        "id": "nrh3ZhqTFjM0"
      },
      "outputs": [],
      "source": [
        "import warnings\n",
        "import itertools\n",
        "import pandas as pd\n",
        "import numpy as np\n",
        "import statsmodels.api as sm\n",
        "import matplotlib.pyplot as plt\n",
        "plt.style.use('fivethirtyeight')"
      ]
    },
    {
      "cell_type": "code",
      "source": [
        "retail_clean = pd.read_csv('retail_clean.csv')"
      ],
      "metadata": {
        "id": "KiISa56UItMi"
      },
      "execution_count": 3,
      "outputs": []
    },
    {
      "cell_type": "code",
      "source": [
        "retail_clean.info()\n",
        "retail_clean.InvoiceDate\n",
        "retail_clean['InvoiceDate'] = pd.to_datetime(retail_clean['InvoiceDate'])\n",
        "retail_clean['date'] = retail_clean['InvoiceDate'].dt.strftime('%Y-%m-%d')\n",
        "retail_clean['date'] = pd.to_datetime(retail_clean['date'])"
      ],
      "metadata": {
        "colab": {
          "base_uri": "https://localhost:8080/"
        },
        "id": "tr9PXbmAJmib",
        "outputId": "725f2f16-f494-4cce-ba33-edf947d5dc02"
      },
      "execution_count": 4,
      "outputs": [
        {
          "output_type": "stream",
          "name": "stdout",
          "text": [
            "<class 'pandas.core.frame.DataFrame'>\n",
            "RangeIndex: 739139 entries, 0 to 739138\n",
            "Data columns (total 10 columns):\n",
            " #   Column       Non-Null Count   Dtype  \n",
            "---  ------       --------------   -----  \n",
            " 0   Unnamed: 0   739139 non-null  int64  \n",
            " 1   Invoice      739139 non-null  int64  \n",
            " 2   StockCode    739139 non-null  object \n",
            " 3   Description  739139 non-null  object \n",
            " 4   Quantity     739139 non-null  int64  \n",
            " 5   InvoiceDate  739139 non-null  object \n",
            " 6   Price        739139 non-null  float64\n",
            " 7   Customer ID  739139 non-null  float64\n",
            " 8   Country      739139 non-null  object \n",
            " 9   Revenue      739138 non-null  float64\n",
            "dtypes: float64(3), int64(3), object(4)\n",
            "memory usage: 56.4+ MB\n"
          ]
        }
      ]
    },
    {
      "cell_type": "code",
      "source": [
        "retail_clean['month'] = retail_clean.date.dt.month\n",
        "retail_clean['year'] = retail_clean.date.dt.year\n",
        "retail_clean['week'] = retail_clean.date.dt.isocalendar().week"
      ],
      "metadata": {
        "id": "KdNT2i2zKH4S"
      },
      "execution_count": 6,
      "outputs": []
    }
  ]
}