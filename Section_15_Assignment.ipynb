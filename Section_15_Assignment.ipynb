{
  "nbformat": 4,
  "nbformat_minor": 0,
  "metadata": {
    "colab": {
      "provenance": [],
      "authorship_tag": "ABX9TyO2GyNJSpXWzpoIkno9XXpi",
      "include_colab_link": true
    },
    "kernelspec": {
      "name": "python3",
      "display_name": "Python 3"
    },
    "language_info": {
      "name": "python"
    }
  },
  "cells": [
    {
      "cell_type": "markdown",
      "metadata": {
        "id": "view-in-github",
        "colab_type": "text"
      },
      "source": [
        "<a href=\"https://colab.research.google.com/github/ethankyle360/ML4SupplyChain/blob/main/Section_15_Assignment.ipynb\" target=\"_parent\"><img src=\"https://colab.research.google.com/assets/colab-badge.svg\" alt=\"Open In Colab\"/></a>"
      ]
    },
    {
      "cell_type": "markdown",
      "source": [
        "Annual Demand for raw coffee: 6,000 tons\n",
        "\n",
        "Price of 1 ton: 1,500 USD\n",
        "\n",
        "Holding rate: 10%\n",
        "\n",
        "Cost of transportation & order: 4,000 USD\n",
        "\n",
        "---\n",
        "\n",
        "What is the optimal Q?\n",
        "\n",
        "What is the total logistics cost?\n",
        "\n",
        "What is the t practical?\n",
        "\n",
        "If the supplier will offer a 10% discount if your Q is 700, would I accept it?\n",
        "\n",
        "If the lead time from the Columbian supplier is 2 months, what is the reorder point?\n"
      ],
      "metadata": {
        "id": "uEeBIbM-7ZUH"
      }
    },
    {
      "cell_type": "code",
      "execution_count": null,
      "metadata": {
        "id": "GTb3Zkpa7UOM"
      },
      "outputs": [],
      "source": []
    }
  ]
}