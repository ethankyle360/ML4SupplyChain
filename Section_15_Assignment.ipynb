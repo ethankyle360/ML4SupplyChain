{
  "nbformat": 4,
  "nbformat_minor": 0,
  "metadata": {
    "colab": {
      "provenance": [],
      "authorship_tag": "ABX9TyMp4ETgP5uubh3vWcxN2sgh",
      "include_colab_link": true
    },
    "kernelspec": {
      "name": "python3",
      "display_name": "Python 3"
    },
    "language_info": {
      "name": "python"
    }
  },
  "cells": [
    {
      "cell_type": "markdown",
      "metadata": {
        "id": "view-in-github",
        "colab_type": "text"
      },
      "source": [
        "<a href=\"https://colab.research.google.com/github/ethankyle360/ML4SupplyChain/blob/main/Section_15_Assignment.ipynb\" target=\"_parent\"><img src=\"https://colab.research.google.com/assets/colab-badge.svg\" alt=\"Open In Colab\"/></a>"
      ]
    },
    {
      "cell_type": "markdown",
      "source": [
        "Annual Demand for raw coffee: 6,000 tons\n",
        "\n",
        "Price of 1 ton: 1,500 USD\n",
        "\n",
        "Holding rate: 10%\n",
        "\n",
        "Cost of transportation & order: 4,000 USD\n",
        "\n",
        "---\n",
        "\n",
        "What is the optimal Q?\n",
        "\n",
        "What is the total logistics cost?\n",
        "\n",
        "What is the t practical?\n",
        "\n",
        "If the supplier will offer a 10% discount if your Q is 700, would I accept it?\n",
        "\n",
        "If the lead time from the Columbian supplier is 2 months, what is the reorder point?\n"
      ],
      "metadata": {
        "id": "uEeBIbM-7ZUH"
      }
    },
    {
      "cell_type": "code",
      "source": [
        "pip install inventorize1"
      ],
      "metadata": {
        "colab": {
          "base_uri": "https://localhost:8080/"
        },
        "id": "iOQz-LBn82rS",
        "outputId": "5d5e0cf5-051a-41c1-ca0b-681ca2603d82"
      },
      "execution_count": 4,
      "outputs": [
        {
          "output_type": "stream",
          "name": "stdout",
          "text": [
            "Collecting inventorize1\n",
            "  Downloading inventorize1-0.0.2.tar.gz (16 kB)\n",
            "  Preparing metadata (setup.py) ... \u001b[?25l\u001b[?25hdone\n",
            "Requirement already satisfied: scipy in /usr/local/lib/python3.10/dist-packages (from inventorize1) (1.11.4)\n",
            "Requirement already satisfied: scikit-learn in /usr/local/lib/python3.10/dist-packages (from inventorize1) (1.2.2)\n",
            "Requirement already satisfied: pandas>=0.23.3 in /usr/local/lib/python3.10/dist-packages (from inventorize1) (2.0.3)\n",
            "Requirement already satisfied: numpy>=1.14.5 in /usr/local/lib/python3.10/dist-packages (from inventorize1) (1.25.2)\n",
            "Requirement already satisfied: python-dateutil>=2.8.2 in /usr/local/lib/python3.10/dist-packages (from pandas>=0.23.3->inventorize1) (2.8.2)\n",
            "Requirement already satisfied: pytz>=2020.1 in /usr/local/lib/python3.10/dist-packages (from pandas>=0.23.3->inventorize1) (2023.4)\n",
            "Requirement already satisfied: tzdata>=2022.1 in /usr/local/lib/python3.10/dist-packages (from pandas>=0.23.3->inventorize1) (2024.1)\n",
            "Requirement already satisfied: joblib>=1.1.1 in /usr/local/lib/python3.10/dist-packages (from scikit-learn->inventorize1) (1.4.2)\n",
            "Requirement already satisfied: threadpoolctl>=2.0.0 in /usr/local/lib/python3.10/dist-packages (from scikit-learn->inventorize1) (3.5.0)\n",
            "Requirement already satisfied: six>=1.5 in /usr/local/lib/python3.10/dist-packages (from python-dateutil>=2.8.2->pandas>=0.23.3->inventorize1) (1.16.0)\n",
            "Building wheels for collected packages: inventorize1\n",
            "  Building wheel for inventorize1 (setup.py) ... \u001b[?25l\u001b[?25hdone\n",
            "  Created wheel for inventorize1: filename=inventorize1-0.0.2-py3-none-any.whl size=15612 sha256=4ee60e8040ba91dc66489ed7cf7afb437e09a53997f7f50407f899529ba380ec\n",
            "  Stored in directory: /root/.cache/pip/wheels/88/ff/6d/cc065d3a5380732f2c1c06faae76d805a83ebc3c4412cd9eed\n",
            "Successfully built inventorize1\n",
            "Installing collected packages: inventorize1\n",
            "Successfully installed inventorize1-0.0.2\n"
          ]
        }
      ]
    },
    {
      "cell_type": "code",
      "execution_count": 5,
      "metadata": {
        "id": "GTb3Zkpa7UOM"
      },
      "outputs": [],
      "source": [
        "import inventorize1 as inv\n",
        "import pandas as pd"
      ]
    }
  ]
}