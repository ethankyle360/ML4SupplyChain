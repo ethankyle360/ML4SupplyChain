{
  "nbformat": 4,
  "nbformat_minor": 0,
  "metadata": {
    "colab": {
      "provenance": [],
      "authorship_tag": "ABX9TyNl8Gaylv/TrTcjW1oHAoSN",
      "include_colab_link": true
    },
    "kernelspec": {
      "name": "python3",
      "display_name": "Python 3"
    },
    "language_info": {
      "name": "python"
    }
  },
  "cells": [
    {
      "cell_type": "markdown",
      "metadata": {
        "id": "view-in-github",
        "colab_type": "text"
      },
      "source": [
        "<a href=\"https://colab.research.google.com/github/ethankyle360/ML4SupplyChain/blob/main/Section_15_Assignment.ipynb\" target=\"_parent\"><img src=\"https://colab.research.google.com/assets/colab-badge.svg\" alt=\"Open In Colab\"/></a>"
      ]
    },
    {
      "cell_type": "markdown",
      "source": [
        "Annual Demand for raw coffee: 6,000 tons\n",
        "\n",
        "Price of 1 ton: 1,500 USD\n",
        "\n",
        "Holding rate: 10%\n",
        "\n",
        "Cost of transportation & order: 4,000 USD\n",
        "\n",
        "---\n",
        "\n",
        "What is the optimal Q?\n",
        "\n",
        "What is the total logistics cost?\n",
        "\n",
        "What is the t practical?\n",
        "\n",
        "If the supplier will offer a 10% discount if your Q is 700, would I accept it?\n",
        "\n",
        "If the lead time from the Columbian supplier is 2 months, what is the reorder point?\n"
      ],
      "metadata": {
        "id": "uEeBIbM-7ZUH"
      }
    },
    {
      "cell_type": "code",
      "source": [
        "pip install inventorize1"
      ],
      "metadata": {
        "colab": {
          "base_uri": "https://localhost:8080/"
        },
        "collapsed": true,
        "id": "iOQz-LBn82rS",
        "outputId": "80fea284-6d60-470f-9bc1-9d16905d7246"
      },
      "execution_count": 1,
      "outputs": [
        {
          "output_type": "stream",
          "name": "stdout",
          "text": [
            "Collecting inventorize1\n",
            "  Downloading inventorize1-0.0.2.tar.gz (16 kB)\n",
            "  Preparing metadata (setup.py) ... \u001b[?25l\u001b[?25hdone\n",
            "Requirement already satisfied: scipy in /usr/local/lib/python3.10/dist-packages (from inventorize1) (1.11.4)\n",
            "Requirement already satisfied: scikit-learn in /usr/local/lib/python3.10/dist-packages (from inventorize1) (1.2.2)\n",
            "Requirement already satisfied: pandas>=0.23.3 in /usr/local/lib/python3.10/dist-packages (from inventorize1) (2.0.3)\n",
            "Requirement already satisfied: numpy>=1.14.5 in /usr/local/lib/python3.10/dist-packages (from inventorize1) (1.25.2)\n",
            "Requirement already satisfied: python-dateutil>=2.8.2 in /usr/local/lib/python3.10/dist-packages (from pandas>=0.23.3->inventorize1) (2.8.2)\n",
            "Requirement already satisfied: pytz>=2020.1 in /usr/local/lib/python3.10/dist-packages (from pandas>=0.23.3->inventorize1) (2023.4)\n",
            "Requirement already satisfied: tzdata>=2022.1 in /usr/local/lib/python3.10/dist-packages (from pandas>=0.23.3->inventorize1) (2024.1)\n",
            "Requirement already satisfied: joblib>=1.1.1 in /usr/local/lib/python3.10/dist-packages (from scikit-learn->inventorize1) (1.4.2)\n",
            "Requirement already satisfied: threadpoolctl>=2.0.0 in /usr/local/lib/python3.10/dist-packages (from scikit-learn->inventorize1) (3.5.0)\n",
            "Requirement already satisfied: six>=1.5 in /usr/local/lib/python3.10/dist-packages (from python-dateutil>=2.8.2->pandas>=0.23.3->inventorize1) (1.16.0)\n",
            "Building wheels for collected packages: inventorize1\n",
            "  Building wheel for inventorize1 (setup.py) ... \u001b[?25l\u001b[?25hdone\n",
            "  Created wheel for inventorize1: filename=inventorize1-0.0.2-py3-none-any.whl size=15612 sha256=c8d742f6bc3d39e40bfb61fe6e66783a52d4f2bcdd36f873db95586b8b5b8e56\n",
            "  Stored in directory: /root/.cache/pip/wheels/88/ff/6d/cc065d3a5380732f2c1c06faae76d805a83ebc3c4412cd9eed\n",
            "Successfully built inventorize1\n",
            "Installing collected packages: inventorize1\n",
            "Successfully installed inventorize1-0.0.2\n"
          ]
        }
      ]
    },
    {
      "cell_type": "code",
      "execution_count": 2,
      "metadata": {
        "id": "GTb3Zkpa7UOM"
      },
      "outputs": [],
      "source": [
        "import inventorize1 as inv\n",
        "import pandas as pd"
      ]
    },
    {
      "cell_type": "code",
      "source": [
        "d = 6000 # Annual demand for raw coffee (in tons)\n",
        "c = 1500 # Price of 1 ton\n",
        "s = 4000 # Cost of transportation and order\n",
        "h = 0.1 # Holding rate cost"
      ],
      "metadata": {
        "id": "lFQUNbmSRoSG"
      },
      "execution_count": 3,
      "outputs": []
    },
    {
      "cell_type": "markdown",
      "source": [
        "Economic Order Quantity (EOQ) is a formula used to find the optimal quantity to order to minimize inventory costs."
      ],
      "metadata": {
        "id": "q2PWk2PSS3VS"
      }
    },
    {
      "cell_type": "code",
      "source": [
        "eoq = pd.DataFrame(inv.eoq(d, s, c, h), index=[0])"
      ],
      "metadata": {
        "id": "XGcnyVJFSO1j"
      },
      "execution_count": 4,
      "outputs": []
    },
    {
      "cell_type": "markdown",
      "source": [
        "`.loc` is used to access specific part from a DataFrame. This of loc as an acronym for locate/location.\n",
        "\n",
        "Locate the value in the row index `0` and column label `EOQ`"
      ],
      "metadata": {
        "id": "lYOBjNTdT5LT"
      }
    },
    {
      "cell_type": "code",
      "source": [
        "# Get access to the DataFrame `eoq`\n",
        "eoq1 = eoq.loc[0, 'EOQ']"
      ],
      "metadata": {
        "id": "2ZJR7QUvSaAL"
      },
      "execution_count": 5,
      "outputs": []
    },
    {
      "cell_type": "markdown",
      "source": [
        "Calculate the Total Logistics Cost (TLC) using the EOQ model.\n",
        "\n",
        "`(d/eoq1) * s`: Calculates the total ordering cost\n",
        "\n",
        "`(eoq1/2) * (h * c)`: Calculates the total holding cost\n",
        "\n",
        "`c * d`: Calculates the total purchasing cost"
      ],
      "metadata": {
        "id": "PQLxg8PIseH0"
      }
    },
    {
      "cell_type": "code",
      "source": [
        "TLC = (d/eoq1) * s + (eoq1/2) * (h*c) + c * d"
      ],
      "metadata": {
        "id": "y-IHpROjrxJa"
      },
      "execution_count": 6,
      "outputs": []
    },
    {
      "cell_type": "code",
      "source": [
        "inv.TQpractical(d, s, c, h)"
      ],
      "metadata": {
        "colab": {
          "base_uri": "https://localhost:8080/"
        },
        "id": "7RuIzf3LsE1h",
        "outputId": "309cbf36-f0d0-4f9e-d33b-45b67126c6b6"
      },
      "execution_count": 7,
      "outputs": [
        {
          "output_type": "execute_result",
          "data": {
            "text/plain": [
              "{'Ts': 0.09428090415820634,\n",
              " 'Tstarweeks': 4.90260701622673,\n",
              " 'Qstar': 565.685424949238,\n",
              " 'Tpractical': 4,\n",
              " 'Tpracticalweeks': 4,\n",
              " 'Qpractical': 461.53846153846155}"
            ]
          },
          "metadata": {},
          "execution_count": 7
        }
      ]
    },
    {
      "cell_type": "markdown",
      "source": [
        "`Ts`: Place an order approximately every 0.094 years (every 34.4 days)\n",
        "\n",
        "`Tstarweeks`: Place an order approximately every 4.9 weeks (every 34.4 days)\n",
        "\n",
        "`Qstar`: Optimal number of lemonade supplies (lemons, sugar, cups) to order each time is 566 units to minimize costs.\n",
        "\n",
        "`Tpractical`: It's practical to place an order every 4 months to align with supplier schedules.\n",
        "\n",
        "`Tpracticalweeks`: It's best to place an order every 4 weeks (once a month).\n",
        "\n",
        "`Qpractical`: For each ordering time (every 4 weeks), I'd order about 462 units of supplies each time."
      ],
      "metadata": {
        "id": "ouuSq8x-uI_g"
      }
    },
    {
      "cell_type": "code",
      "source": [],
      "metadata": {
        "id": "6X5TGFcEvR-K"
      },
      "execution_count": null,
      "outputs": []
    }
  ]
}