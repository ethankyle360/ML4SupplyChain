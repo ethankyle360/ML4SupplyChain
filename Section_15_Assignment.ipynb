{
  "nbformat": 4,
  "nbformat_minor": 0,
  "metadata": {
    "colab": {
      "provenance": [],
      "authorship_tag": "ABX9TyOLjQoOp3hzxsKkt8hdGezB",
      "include_colab_link": true
    },
    "kernelspec": {
      "name": "python3",
      "display_name": "Python 3"
    },
    "language_info": {
      "name": "python"
    }
  },
  "cells": [
    {
      "cell_type": "markdown",
      "metadata": {
        "id": "view-in-github",
        "colab_type": "text"
      },
      "source": [
        "<a href=\"https://colab.research.google.com/github/ethankyle360/ML4SupplyChain/blob/main/Section_15_Assignment.ipynb\" target=\"_parent\"><img src=\"https://colab.research.google.com/assets/colab-badge.svg\" alt=\"Open In Colab\"/></a>"
      ]
    },
    {
      "cell_type": "markdown",
      "source": [
        "Annual Demand for raw coffee: 6,000 tons\n",
        "\n",
        "Price of 1 ton: 1,500 USD\n",
        "\n",
        "Holding rate: 10%\n",
        "\n",
        "Cost of transportation & order: 4,000 USD\n",
        "\n",
        "---\n",
        "\n",
        "What is the optimal Q?\n",
        "\n",
        "What is the total logistics cost?\n",
        "\n",
        "What is the t practical?\n",
        "\n",
        "If the supplier will offer a 10% discount if your Q is 700, would I accept it?\n",
        "\n",
        "If the lead time from the Columbian supplier is 2 months, what is the reorder point?\n"
      ],
      "metadata": {
        "id": "uEeBIbM-7ZUH"
      }
    },
    {
      "cell_type": "code",
      "source": [
        "pip install inventorize1"
      ],
      "metadata": {
        "colab": {
          "base_uri": "https://localhost:8080/"
        },
        "collapsed": true,
        "id": "iOQz-LBn82rS",
        "outputId": "80fea284-6d60-470f-9bc1-9d16905d7246"
      },
      "execution_count": 1,
      "outputs": [
        {
          "output_type": "stream",
          "name": "stdout",
          "text": [
            "Collecting inventorize1\n",
            "  Downloading inventorize1-0.0.2.tar.gz (16 kB)\n",
            "  Preparing metadata (setup.py) ... \u001b[?25l\u001b[?25hdone\n",
            "Requirement already satisfied: scipy in /usr/local/lib/python3.10/dist-packages (from inventorize1) (1.11.4)\n",
            "Requirement already satisfied: scikit-learn in /usr/local/lib/python3.10/dist-packages (from inventorize1) (1.2.2)\n",
            "Requirement already satisfied: pandas>=0.23.3 in /usr/local/lib/python3.10/dist-packages (from inventorize1) (2.0.3)\n",
            "Requirement already satisfied: numpy>=1.14.5 in /usr/local/lib/python3.10/dist-packages (from inventorize1) (1.25.2)\n",
            "Requirement already satisfied: python-dateutil>=2.8.2 in /usr/local/lib/python3.10/dist-packages (from pandas>=0.23.3->inventorize1) (2.8.2)\n",
            "Requirement already satisfied: pytz>=2020.1 in /usr/local/lib/python3.10/dist-packages (from pandas>=0.23.3->inventorize1) (2023.4)\n",
            "Requirement already satisfied: tzdata>=2022.1 in /usr/local/lib/python3.10/dist-packages (from pandas>=0.23.3->inventorize1) (2024.1)\n",
            "Requirement already satisfied: joblib>=1.1.1 in /usr/local/lib/python3.10/dist-packages (from scikit-learn->inventorize1) (1.4.2)\n",
            "Requirement already satisfied: threadpoolctl>=2.0.0 in /usr/local/lib/python3.10/dist-packages (from scikit-learn->inventorize1) (3.5.0)\n",
            "Requirement already satisfied: six>=1.5 in /usr/local/lib/python3.10/dist-packages (from python-dateutil>=2.8.2->pandas>=0.23.3->inventorize1) (1.16.0)\n",
            "Building wheels for collected packages: inventorize1\n",
            "  Building wheel for inventorize1 (setup.py) ... \u001b[?25l\u001b[?25hdone\n",
            "  Created wheel for inventorize1: filename=inventorize1-0.0.2-py3-none-any.whl size=15612 sha256=c8d742f6bc3d39e40bfb61fe6e66783a52d4f2bcdd36f873db95586b8b5b8e56\n",
            "  Stored in directory: /root/.cache/pip/wheels/88/ff/6d/cc065d3a5380732f2c1c06faae76d805a83ebc3c4412cd9eed\n",
            "Successfully built inventorize1\n",
            "Installing collected packages: inventorize1\n",
            "Successfully installed inventorize1-0.0.2\n"
          ]
        }
      ]
    },
    {
      "cell_type": "code",
      "execution_count": 2,
      "metadata": {
        "id": "GTb3Zkpa7UOM"
      },
      "outputs": [],
      "source": [
        "import inventorize1 as inv\n",
        "import pandas as pd"
      ]
    },
    {
      "cell_type": "code",
      "source": [
        "d = 6000 # Annual demand for raw coffee (in tons)\n",
        "c = 1500 # Price of 1 ton\n",
        "s = 4000 # Cost of transportation and order\n",
        "h = 0.1 # Holding rate cost"
      ],
      "metadata": {
        "id": "lFQUNbmSRoSG"
      },
      "execution_count": 3,
      "outputs": []
    },
    {
      "cell_type": "markdown",
      "source": [
        "Economic Order Quantity (EOQ) is a formula used to find the optimal quantity to order to minimize inventory costs."
      ],
      "metadata": {
        "id": "q2PWk2PSS3VS"
      }
    },
    {
      "cell_type": "code",
      "source": [
        "eoq = pd.DataFrame(inv.eoq(d, s, c, h), index=[0])"
      ],
      "metadata": {
        "id": "XGcnyVJFSO1j"
      },
      "execution_count": 4,
      "outputs": []
    },
    {
      "cell_type": "markdown",
      "source": [
        "`.loc` is used to access specific part from a DataFrame. This of loc as an acronym for locate/location.\n",
        "\n",
        "Locate the value in the row index `0` and column label `EOQ`"
      ],
      "metadata": {
        "id": "lYOBjNTdT5LT"
      }
    },
    {
      "cell_type": "code",
      "source": [
        "# Get access to the DataFrame `eoq`\n",
        "eoq1 = eoq.loc[0, 'EOQ']"
      ],
      "metadata": {
        "id": "2ZJR7QUvSaAL"
      },
      "execution_count": 5,
      "outputs": []
    },
    {
      "cell_type": "markdown",
      "source": [
        "Calculate the Total Logistics Cost (TLC) using the EOQ model.\n",
        "\n",
        "`(d/eoq1) * s`: Calculates the total ordering cost\n",
        "\n",
        "`(eoq1/2) * (h * c)`: Calculates the total holding cost\n",
        "\n",
        "`c * d`: Calculates the total purchasing cost"
      ],
      "metadata": {
        "id": "PQLxg8PIseH0"
      }
    },
    {
      "cell_type": "code",
      "source": [
        "TLC = (d/eoq1) * s + (eoq1/2) * (h*c) + c * d"
      ],
      "metadata": {
        "id": "y-IHpROjrxJa"
      },
      "execution_count": 6,
      "outputs": []
    },
    {
      "cell_type": "code",
      "source": [
        "inv.TQpractical(d, s, c, h)"
      ],
      "metadata": {
        "colab": {
          "base_uri": "https://localhost:8080/"
        },
        "id": "7RuIzf3LsE1h",
        "outputId": "309cbf36-f0d0-4f9e-d33b-45b67126c6b6"
      },
      "execution_count": 7,
      "outputs": [
        {
          "output_type": "execute_result",
          "data": {
            "text/plain": [
              "{'Ts': 0.09428090415820634,\n",
              " 'Tstarweeks': 4.90260701622673,\n",
              " 'Qstar': 565.685424949238,\n",
              " 'Tpractical': 4,\n",
              " 'Tpracticalweeks': 4,\n",
              " 'Qpractical': 461.53846153846155}"
            ]
          },
          "metadata": {},
          "execution_count": 7
        }
      ]
    },
    {
      "cell_type": "markdown",
      "source": [
        "`Ts`: Place an order approximately every 0.094 years (every 34.4 days)\n",
        "\n",
        "`Tstarweeks`: Place an order approximately every 4.9 weeks (every 34.4 days)\n",
        "\n",
        "`Qstar`: Optimal number of lemonade supplies (lemons, sugar, cups) to order each time is 566 units to minimize costs.\n",
        "\n",
        "`Tpractical`: It's practical to place an order every 4 months to align with supplier schedules.\n",
        "\n",
        "`Tpracticalweeks`: It's best to place an order every 4 weeks (once a month).\n",
        "\n",
        "`Qpractical`: For each ordering time (every 4 weeks), I'd order about 462 units of supplies each time."
      ],
      "metadata": {
        "id": "ouuSq8x-uI_g"
      }
    },
    {
      "cell_type": "markdown",
      "source": [
        "Calculate the Total Logistics Cost (TLC) but with the following:\n",
        "1. Fixed order quantity of 700 units\n",
        "2. Reduced costs by 10%"
      ],
      "metadata": {
        "id": "fJlX4tu7wNpx"
      }
    },
    {
      "cell_type": "code",
      "source": [
        "### At 10% discount\n",
        "## 0.9 represents a 10% reduction in both the holding and purchasing cost.\n",
        "TLC1 = (d/700) * s + (700/2) * (h*c*0.9) + c * 0.9 * d\n",
        "print(\"TLC1:\", TLC1)"
      ],
      "metadata": {
        "colab": {
          "base_uri": "https://localhost:8080/"
        },
        "id": "6X5TGFcEvR-K",
        "outputId": "bde9647f-3ec7-4ede-9677-11f0d22c3dc9"
      },
      "execution_count": 12,
      "outputs": [
        {
          "output_type": "stream",
          "name": "stdout",
          "text": [
            "TLC1: 8181535.714285715\n"
          ]
        }
      ]
    },
    {
      "cell_type": "markdown",
      "source": [
        "Conclusion: The total annual cost for ordering, holding, and purchasing the inventory, given a 10% reduction in holding and purchasing costs is approximately $8,181,535.71"
      ],
      "metadata": {
        "id": "QHMVtcm1w8pe"
      }
    },
    {
      "cell_type": "code",
      "source": [
        "## t represents cycle times in years\n",
        "t = eoq1 / d\n",
        "print(\"t:\", t)\n",
        "## L represents lead time in years\n",
        "L = 2/12\n",
        "print(\"L:\", L)\n",
        "## Check if lead time is greater than cycle time\n",
        "L > t\n",
        "## l_prime represents adjusted lead time\n",
        "l_prime = L-(1*(eoq1/d))\n",
        "print(\"l_prime:\", l_prime)\n",
        "## Calculate reorder points in units\n",
        "reorder_point = l_prime * d\n",
        "print(\"reorder_point:\", reorder_point)"
      ],
      "metadata": {
        "colab": {
          "base_uri": "https://localhost:8080/"
        },
        "id": "Jgs3yRYaxNto",
        "outputId": "570e5247-e776-4659-ab83-b3a5424eee12"
      },
      "execution_count": 15,
      "outputs": [
        {
          "output_type": "stream",
          "name": "stdout",
          "text": [
            "t: 0.09428090415820634\n",
            "L: 0.16666666666666666\n",
            "l_prime: 0.07238576250846032\n",
            "reorder_point: 434.3145750507619\n"
          ]
        }
      ]
    },
    {
      "cell_type": "markdown",
      "source": [
        "1. `t`: an order must be placed every 0.0942 years (which is every 34.4 days)\n",
        "2. `L`: It takes about 0.167 years (2 months) from placing an order until the order inventory is received.\n",
        "3. `l_prime`: After accounting 1 cycle time, the remaining lead time is 0.0724 years (about 26.4 days)\n",
        "4. `reorder_point`: When the inventory level drops to 434.31 units, it's time to place a new order to ensure there is enough stock to cover the demand during the lead time."
      ],
      "metadata": {
        "id": "hwxytr_mz2vS"
      }
    }
  ]
}