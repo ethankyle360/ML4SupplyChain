{
  "nbformat": 4,
  "nbformat_minor": 0,
  "metadata": {
    "colab": {
      "provenance": [],
      "authorship_tag": "ABX9TyMaLgeNZ/Ufgmqp2cMfcba1",
      "include_colab_link": true
    },
    "kernelspec": {
      "name": "python3",
      "display_name": "Python 3"
    },
    "language_info": {
      "name": "python"
    }
  },
  "cells": [
    {
      "cell_type": "markdown",
      "metadata": {
        "id": "view-in-github",
        "colab_type": "text"
      },
      "source": [
        "<a href=\"https://colab.research.google.com/github/ethankyle360/ML4SupplyChain/blob/main/statistical_analysis_assignment.ipynb\" target=\"_parent\"><img src=\"https://colab.research.google.com/assets/colab-badge.svg\" alt=\"Open In Colab\"/></a>"
      ]
    },
    {
      "cell_type": "code",
      "execution_count": 5,
      "metadata": {
        "id": "aK8GNj_oOy2J"
      },
      "outputs": [],
      "source": [
        "import pandas as pd\n",
        "pinapple = pd.read_csv('Pinapple_juice.csv')"
      ]
    },
    {
      "cell_type": "markdown",
      "source": [
        "I will work on the pineapple juice data that has the demand and the price every day for this juice.\n",
        "\n",
        "Fit the demand of this distribution to a normal demand."
      ],
      "metadata": {
        "id": "WlZwYdcKPe4K"
      }
    },
    {
      "cell_type": "code",
      "source": [
        "import numpy as np\n",
        "from scipy.stats import norm,normaltest,kstest"
      ],
      "metadata": {
        "id": "cO0c78t8Pdzf"
      },
      "execution_count": 2,
      "outputs": []
    },
    {
      "cell_type": "code",
      "source": [
        "import scipy.stats as st"
      ],
      "metadata": {
        "id": "1a1V470cPwKU"
      },
      "execution_count": 3,
      "outputs": []
    },
    {
      "cell_type": "code",
      "source": [
        "# Create an array\n",
        "juice = np.array(pinapple['Pinapple juice'])"
      ],
      "metadata": {
        "id": "hp2R7Q5fP58l"
      },
      "execution_count": 6,
      "outputs": []
    },
    {
      "cell_type": "code",
      "source": [
        "mean = juice.mean()\n",
        "sd = juice.std()"
      ],
      "metadata": {
        "id": "eZxM36RdQOeE"
      },
      "execution_count": 7,
      "outputs": []
    },
    {
      "cell_type": "code",
      "source": [
        "# What is the p-value after the fit?\n",
        "kstest(juice, 'norm', args=(mean,sd))"
      ],
      "metadata": {
        "colab": {
          "base_uri": "https://localhost:8080/"
        },
        "id": "YGq0byttQf8h",
        "outputId": "458e39e5-8a38-429b-94d1-6183cfcbe0c2"
      },
      "execution_count": 8,
      "outputs": [
        {
          "output_type": "execute_result",
          "data": {
            "text/plain": [
              "KstestResult(statistic=0.03041961698323714, pvalue=0.8767570617996495, statistic_location=131, statistic_sign=1)"
            ]
          },
          "metadata": {},
          "execution_count": 8
        }
      ]
    },
    {
      "cell_type": "code",
      "source": [
        "# Make a linear regression using the ln function y~x and outline the coefficients and the intercept.\n",
        "import pandas as pd\n",
        "from sklearn.linear_model import LinearRegression"
      ],
      "metadata": {
        "id": "5XfxWujaQoCw"
      },
      "execution_count": 9,
      "outputs": []
    }
  ]
}