{
  "nbformat": 4,
  "nbformat_minor": 0,
  "metadata": {
    "colab": {
      "provenance": [],
      "authorship_tag": "ABX9TyPZcw0T8HOb4xmnsAvQfWR/"
    },
    "kernelspec": {
      "name": "python3",
      "display_name": "Python 3"
    },
    "language_info": {
      "name": "python"
    }
  },
  "cells": [
    {
      "cell_type": "code",
      "execution_count": 5,
      "metadata": {
        "id": "aK8GNj_oOy2J"
      },
      "outputs": [],
      "source": [
        "import pandas as pd\n",
        "pinapple = pd.read_csv('Pinapple_juice.csv')"
      ]
    },
    {
      "cell_type": "markdown",
      "source": [
        "I will work on the pineapple juice data that has the demand and the price every day for this juice.\n",
        "\n",
        "Fit the demand of this distribution to a normal demand."
      ],
      "metadata": {
        "id": "WlZwYdcKPe4K"
      }
    },
    {
      "cell_type": "code",
      "source": [
        "import numpy as np\n",
        "from scipy.stats import norm,normaltest,kstest"
      ],
      "metadata": {
        "id": "cO0c78t8Pdzf"
      },
      "execution_count": 2,
      "outputs": []
    },
    {
      "cell_type": "code",
      "source": [
        "import scipy.stats as st"
      ],
      "metadata": {
        "id": "1a1V470cPwKU"
      },
      "execution_count": 3,
      "outputs": []
    },
    {
      "cell_type": "code",
      "source": [
        "# Create an array\n",
        "juice = np.array(pinapple['Pinapple juice'])"
      ],
      "metadata": {
        "id": "hp2R7Q5fP58l"
      },
      "execution_count": 6,
      "outputs": []
    },
    {
      "cell_type": "code",
      "source": [
        "mean = juice.mean()\n",
        "sd = juice.std()"
      ],
      "metadata": {
        "id": "eZxM36RdQOeE"
      },
      "execution_count": 7,
      "outputs": []
    }
  ]
}