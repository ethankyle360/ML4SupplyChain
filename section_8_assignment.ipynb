{
  "nbformat": 4,
  "nbformat_minor": 0,
  "metadata": {
    "colab": {
      "provenance": [],
      "authorship_tag": "ABX9TyOhNZpg3HQom+u4zRWj51pd",
      "include_colab_link": true
    },
    "kernelspec": {
      "name": "python3",
      "display_name": "Python 3"
    },
    "language_info": {
      "name": "python"
    }
  },
  "cells": [
    {
      "cell_type": "markdown",
      "metadata": {
        "id": "view-in-github",
        "colab_type": "text"
      },
      "source": [
        "<a href=\"https://colab.research.google.com/github/ethankyle360/ML4SupplyChain/blob/main/section_8_assignment.ipynb\" target=\"_parent\"><img src=\"https://colab.research.google.com/assets/colab-badge.svg\" alt=\"Open In Colab\"/></a>"
      ]
    },
    {
      "cell_type": "code",
      "execution_count": 1,
      "metadata": {
        "id": "S05R7myMX-93"
      },
      "outputs": [],
      "source": [
        "#1 - Make a new script and call it section 8 assignment."
      ]
    },
    {
      "cell_type": "code",
      "source": [
        "#2 - Import twentyeleven.csv, iris, cars and the requested packages."
      ],
      "metadata": {
        "id": "S10oluCDYKda"
      },
      "execution_count": null,
      "outputs": []
    },
    {
      "cell_type": "code",
      "source": [
        "#3 - Make a new line plot of the sales of 2011 for the United Kingdom."
      ],
      "metadata": {
        "id": "hiW1sL8AYWlS"
      },
      "execution_count": null,
      "outputs": []
    },
    {
      "cell_type": "code",
      "source": [
        "#4 - For the next plot; select country countries<-e(\"Canada\", \"Denmark\", \"EIRE\", \"United Kingdom\")"
      ],
      "metadata": {
        "id": "sFTQvNsTYf_Y"
      },
      "execution_count": null,
      "outputs": []
    },
    {
      "cell_type": "code",
      "source": [
        "#5 - Make a scatter plot for cars between price and horsepower."
      ],
      "metadata": {
        "id": "LNbqfsn9YuZP"
      },
      "execution_count": null,
      "outputs": []
    },
    {
      "cell_type": "code",
      "source": [
        "#6 - Make a distribution plot of sepal length in iris and segregate it by flower."
      ],
      "metadata": {
        "id": "UNsvacSXY6c8"
      },
      "execution_count": null,
      "outputs": []
    },
    {
      "cell_type": "code",
      "source": [
        "#7 - Make a boxplot for the number of cylinders of cars, make sure to take only 4,6 and 8 cylinders and horsepower."
      ],
      "metadata": {
        "id": "oQUTeHr9ZCe9"
      },
      "execution_count": null,
      "outputs": []
    },
    {
      "cell_type": "code",
      "source": [
        "#8 - Make a pair plot or iris dataset segregated by flower type."
      ],
      "metadata": {
        "id": "irxd7wmLZOiI"
      },
      "execution_count": null,
      "outputs": []
    }
  ]
}