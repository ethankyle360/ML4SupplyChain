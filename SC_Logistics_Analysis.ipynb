{
  "nbformat": 4,
  "nbformat_minor": 0,
  "metadata": {
    "colab": {
      "provenance": [],
      "authorship_tag": "ABX9TyN42iGlzSEePvFE1HPIgdER",
      "include_colab_link": true
    },
    "kernelspec": {
      "name": "python3",
      "display_name": "Python 3"
    },
    "language_info": {
      "name": "python"
    }
  },
  "cells": [
    {
      "cell_type": "markdown",
      "metadata": {
        "id": "view-in-github",
        "colab_type": "text"
      },
      "source": [
        "<a href=\"https://colab.research.google.com/github/ethankyle360/ML4SupplyChain/blob/main/SC_Logistics_Analysis.ipynb\" target=\"_parent\"><img src=\"https://colab.research.google.com/assets/colab-badge.svg\" alt=\"Open In Colab\"/></a>"
      ]
    },
    {
      "cell_type": "markdown",
      "source": [
        "# Supply Chain Logistics Analysis\n",
        "Goal: I need to make sure that I deliver the products to the customers without overstocking and keeping the costs as low as possible while getting the product delivered on time."
      ],
      "metadata": {
        "id": "6LO7wFvbOE6O"
      }
    },
    {
      "cell_type": "code",
      "execution_count": 1,
      "metadata": {
        "id": "fik9qebUOA8H"
      },
      "outputs": [],
      "source": [
        "import pandas as pd\n",
        "from google.colab import files # Use file upload feature to upload Excel file\n",
        "\n",
        "# Store Excel file inside variable `file_path`\n",
        "file_path = 'Supply chain logistics problem.xlsx'"
      ]
    },
    {
      "cell_type": "code",
      "source": [
        "# Load the Excel file into separate Pandas DataFrames for each sheet\n",
        "# Read the specific sheet I want to read from the Excel file and store it into a separate DataFrame\n",
        "order_list_df = pd.read_excel(file_path, sheet_name='OrderList')\n",
        "freight_rates_df = pd.read_excel(file_path, sheet_name='FreightRates')\n",
        "wh_costs_df = pd.read_excel(file_path, sheet_name='WhCosts')\n",
        "wh_capacities_df = pd.read_excel(file_path, sheet_name='WhCapacities')\n",
        "products_per_plant_df = pd.read_excel(file_path, sheet_name='ProductsPerPlant')\n",
        "vmi_customers_df = pd.read_excel(file_path, sheet_name='VmiCustomers')\n",
        "plant_ports_df = pd.read_excel(file_path, sheet_name='PlantPorts')"
      ],
      "metadata": {
        "id": "YQw-nFTGzNzm"
      },
      "execution_count": 4,
      "outputs": []
    },
    {
      "cell_type": "markdown",
      "source": [
        "## Display first rows for each DataFrame"
      ],
      "metadata": {
        "id": "EwA2Qo9O0D2i"
      }
    },
    {
      "cell_type": "code",
      "source": [
        "# Display the first few rows of each DataFrame to verify successful loading\n",
        "print(\"OrderList DataFrame:\")\n",
        "print(order_list_df.head())\n",
        "\n",
        "print(\"\\nFreightRates DataFrame:\")\n",
        "print(freight_rates_df.head())\n",
        "\n",
        "print(\"\\nWarehouse Costs DataFrame:\")\n",
        "print(wh_costs_df.head())\n",
        "\n",
        "print(\"\\nWarehouse Capacities DataFrame:\")\n",
        "print(wh_capacities_df.head())\n",
        "\n",
        "print(\"\\nProducts Per Plant DataFrame:\")\n",
        "print(products_per_plant_df.head())\n",
        "\n",
        "print(\"\\nVMI Customers DataFrame:\")\n",
        "print(vmi_customers_df.head())\n",
        "\n",
        "print(\"\\nPlant Ports DataFrame:\")\n",
        "print(plant_ports_df.head())"
      ],
      "metadata": {
        "colab": {
          "base_uri": "https://localhost:8080/"
        },
        "id": "difnsn620KRK",
        "outputId": "34707e77-2978-47fc-f010-5d2dfe98fd86"
      },
      "execution_count": 6,
      "outputs": [
        {
          "output_type": "stream",
          "name": "stdout",
          "text": [
            "OrderList DataFrame:\n",
            "       Order ID Order Date Origin Port Carrier  TPT Service Level  \\\n",
            "0  1.447296e+09 2013-05-26      PORT09   V44_3    1           CRF   \n",
            "1  1.447158e+09 2013-05-26      PORT09   V44_3    1           CRF   \n",
            "2  1.447139e+09 2013-05-26      PORT09   V44_3    1           CRF   \n",
            "3  1.447364e+09 2013-05-26      PORT09   V44_3    1           CRF   \n",
            "4  1.447364e+09 2013-05-26      PORT09   V44_3    1           CRF   \n",
            "\n",
            "   Ship ahead day count  Ship Late Day count   Customer  Product ID  \\\n",
            "0                     3                    0  V55555_53     1700106   \n",
            "1                     3                    0  V55555_53     1700106   \n",
            "2                     3                    0  V55555_53     1700106   \n",
            "3                     3                    0  V55555_53     1700106   \n",
            "4                     3                    0  V55555_53     1700106   \n",
            "\n",
            "  Plant Code Destination Port  Unit quantity  Weight  \n",
            "0    PLANT16           PORT09            808   14.30  \n",
            "1    PLANT16           PORT09           3188   87.94  \n",
            "2    PLANT16           PORT09           2331   61.20  \n",
            "3    PLANT16           PORT09            847   16.16  \n",
            "4    PLANT16           PORT09           2163   52.34  \n",
            "\n",
            "FreightRates DataFrame:\n",
            "  Carrier orig_port_cd dest_port_cd  minm_wgh_qty  max_wgh_qty svc_cd  \\\n",
            "0  V444_6       PORT08       PORT09         250.0       499.99    DTD   \n",
            "1  V444_6       PORT08       PORT09          65.0        69.99    DTD   \n",
            "2  V444_6       PORT08       PORT09          60.0        64.99    DTD   \n",
            "3  V444_6       PORT08       PORT09          50.0        54.99    DTD   \n",
            "4  V444_6       PORT08       PORT09          35.0        39.99    DTD   \n",
            "\n",
            "   minimum cost    rate mode_dsc  tpt_day_cnt Carrier type  \n",
            "0       43.2272  0.7132   AIR               2  V88888888_0  \n",
            "1       43.2272  0.7512   AIR               2  V88888888_0  \n",
            "2       43.2272  0.7892   AIR               2  V88888888_0  \n",
            "3       43.2272  0.8272   AIR               2  V88888888_0  \n",
            "4       43.2272  1.0552   AIR               2  V88888888_0  \n",
            "\n",
            "Warehouse Costs DataFrame:\n",
            "        WH  Cost/unit\n",
            "0  PLANT15   1.415063\n",
            "1  PLANT17   0.428947\n",
            "2  PLANT18   2.036254\n",
            "3  PLANT05   0.488144\n",
            "4  PLANT02   0.477504\n",
            "\n",
            "Warehouse Capacities DataFrame:\n",
            "  Plant ID  Daily Capacity \n",
            "0  PLANT15               11\n",
            "1  PLANT17                8\n",
            "2  PLANT18              111\n",
            "3  PLANT05              385\n",
            "4  PLANT02              138\n",
            "\n",
            "Products Per Plant DataFrame:\n",
            "  Plant Code  Product ID\n",
            "0    PLANT15     1698815\n",
            "1    PLANT17     1664419\n",
            "2    PLANT17     1664426\n",
            "3    PLANT17     1672826\n",
            "4    PLANT17     1674916\n",
            "\n",
            "VMI Customers DataFrame:\n",
            "  Plant Code            Customers\n",
            "0    PLANT02    V5555555555555_16\n",
            "1    PLANT02  V555555555555555_29\n",
            "2    PLANT02         V555555555_3\n",
            "3    PLANT02    V55555555555555_8\n",
            "4    PLANT02          V55555555_9\n",
            "\n",
            "Plant Ports DataFrame:\n",
            "  Plant Code    Port\n",
            "0    PLANT01  PORT01\n",
            "1    PLANT01  PORT02\n",
            "2    PLANT02  PORT03\n",
            "3    PLANT03  PORT04\n",
            "4    PLANT04  PORT05\n"
          ]
        }
      ]
    },
    {
      "cell_type": "markdown",
      "source": [
        "## Explore each DataFrame structure"
      ],
      "metadata": {
        "id": "KPLN92we2RYg"
      }
    },
    {
      "cell_type": "code",
      "source": [
        "import numpy as np\n",
        "\n",
        "# Explore the structure of each DataFrame\n",
        "dataframes = {\n",
        "    \"OrderList\": order_list_df,\n",
        "    \"FreightRates\": freight_rates_df,\n",
        "    \"WarehouseCosts\": wh_costs_df,\n",
        "    \"WarehouseCapacities\": wh_capacities_df,\n",
        "    \"ProductsPerPlant\": products_per_plant_df,\n",
        "    \"VMICustomers\": vmi_customers_df,\n",
        "    \"PlantPorts\": plant_ports_df\n",
        "}"
      ],
      "metadata": {
        "id": "5L7y-b-f2arb"
      },
      "execution_count": 7,
      "outputs": []
    },
    {
      "cell_type": "markdown",
      "source": [
        "## Check for missing values"
      ],
      "metadata": {
        "id": "8lr38FVG3Plk"
      }
    },
    {
      "cell_type": "code",
      "source": [
        "# Go through each item in the `dataframes` dictionary that we created earlier\n",
        "for name, df in dataframes.items():\n",
        "    print(f\"{name} - Data Types:\")\n",
        "    print(df.dtypes) # Return a Series with the data type of each column\n",
        "    print(f\"\\n{name} - Missing Values:\")\n",
        "    print(df.isnull().sum()) # Print the # of missing columns from each DataFrame\n",
        "    print(\"\\n\")"
      ],
      "metadata": {
        "colab": {
          "base_uri": "https://localhost:8080/"
        },
        "id": "u6c6orZ63TC3",
        "outputId": "0320ece1-4af9-41e4-f7ea-09d6aa0c74bf"
      },
      "execution_count": 8,
      "outputs": [
        {
          "output_type": "stream",
          "name": "stdout",
          "text": [
            "OrderList - Data Types:\n",
            "Order ID                       float64\n",
            "Order Date              datetime64[ns]\n",
            "Origin Port                     object\n",
            "Carrier                         object\n",
            "TPT                              int64\n",
            "Service Level                   object\n",
            "Ship ahead day count             int64\n",
            "Ship Late Day count              int64\n",
            "Customer                        object\n",
            "Product ID                       int64\n",
            "Plant Code                      object\n",
            "Destination Port                object\n",
            "Unit quantity                    int64\n",
            "Weight                         float64\n",
            "dtype: object\n",
            "\n",
            "OrderList - Missing Values:\n",
            "Order ID                0\n",
            "Order Date              0\n",
            "Origin Port             0\n",
            "Carrier                 0\n",
            "TPT                     0\n",
            "Service Level           0\n",
            "Ship ahead day count    0\n",
            "Ship Late Day count     0\n",
            "Customer                0\n",
            "Product ID              0\n",
            "Plant Code              0\n",
            "Destination Port        0\n",
            "Unit quantity           0\n",
            "Weight                  0\n",
            "dtype: int64\n",
            "\n",
            "\n",
            "FreightRates - Data Types:\n",
            "Carrier          object\n",
            "orig_port_cd     object\n",
            "dest_port_cd     object\n",
            "minm_wgh_qty    float64\n",
            "max_wgh_qty     float64\n",
            "svc_cd           object\n",
            "minimum cost    float64\n",
            "rate            float64\n",
            "mode_dsc         object\n",
            "tpt_day_cnt       int64\n",
            "Carrier type     object\n",
            "dtype: object\n",
            "\n",
            "FreightRates - Missing Values:\n",
            "Carrier         0\n",
            "orig_port_cd    0\n",
            "dest_port_cd    0\n",
            "minm_wgh_qty    0\n",
            "max_wgh_qty     0\n",
            "svc_cd          0\n",
            "minimum cost    0\n",
            "rate            0\n",
            "mode_dsc        0\n",
            "tpt_day_cnt     0\n",
            "Carrier type    0\n",
            "dtype: int64\n",
            "\n",
            "\n",
            "WarehouseCosts - Data Types:\n",
            "WH            object\n",
            "Cost/unit    float64\n",
            "dtype: object\n",
            "\n",
            "WarehouseCosts - Missing Values:\n",
            "WH           0\n",
            "Cost/unit    0\n",
            "dtype: int64\n",
            "\n",
            "\n",
            "WarehouseCapacities - Data Types:\n",
            "Plant ID           object\n",
            "Daily Capacity      int64\n",
            "dtype: object\n",
            "\n",
            "WarehouseCapacities - Missing Values:\n",
            "Plant ID           0\n",
            "Daily Capacity     0\n",
            "dtype: int64\n",
            "\n",
            "\n",
            "ProductsPerPlant - Data Types:\n",
            "Plant Code    object\n",
            "Product ID     int64\n",
            "dtype: object\n",
            "\n",
            "ProductsPerPlant - Missing Values:\n",
            "Plant Code    0\n",
            "Product ID    0\n",
            "dtype: int64\n",
            "\n",
            "\n",
            "VMICustomers - Data Types:\n",
            "Plant Code    object\n",
            "Customers     object\n",
            "dtype: object\n",
            "\n",
            "VMICustomers - Missing Values:\n",
            "Plant Code    0\n",
            "Customers     0\n",
            "dtype: int64\n",
            "\n",
            "\n",
            "PlantPorts - Data Types:\n",
            "Plant Code    object\n",
            "Port          object\n",
            "dtype: object\n",
            "\n",
            "PlantPorts - Missing Values:\n",
            "Plant Code    0\n",
            "Port          0\n",
            "dtype: int64\n",
            "\n",
            "\n"
          ]
        }
      ]
    },
    {
      "cell_type": "markdown",
      "source": [
        "## Summarize key statistics for numerical columns"
      ],
      "metadata": {
        "id": "92yu2KrT6YTg"
      }
    },
    {
      "cell_type": "code",
      "source": [
        "# Loop through each item in the `dataframes` dictionary\n",
        "for name, df in dataframes.items():\n",
        "    # Take only the columns with numerical datatypes and create a new DataFrame\n",
        "    # Check if the new DataFrame is not empty (has numerical datatypes)\n",
        "    if not df.select_dtypes(include=[np.number]).empty:\n",
        "        print(f\"{name} - Statistics for Numerical Data:\")\n",
        "        # Select only numerical columns and provide a summary of the columns (mean, std, min, max)\n",
        "        print(df.select_dtypes(include=[np.number]).describe())\n",
        "        print(\"\\n\")"
      ],
      "metadata": {
        "colab": {
          "base_uri": "https://localhost:8080/"
        },
        "id": "2TvmDBIE6gmh",
        "outputId": "70ae09e0-c72a-4ea7-bcd6-525a94518fdb"
      },
      "execution_count": 9,
      "outputs": [
        {
          "output_type": "stream",
          "name": "stdout",
          "text": [
            "OrderList - Statistics for Numerical Data:\n",
            "           Order ID          TPT  Ship ahead day count  Ship Late Day count  \\\n",
            "count  9.215000e+03  9215.000000           9215.000000          9215.000000   \n",
            "mean   1.447274e+09     1.717743              1.852306             0.039935   \n",
            "std    8.381629e+04     0.630500              1.922302             0.319625   \n",
            "min    1.447126e+09     0.000000              0.000000             0.000000   \n",
            "25%    1.447197e+09     1.000000              0.000000             0.000000   \n",
            "50%    1.447276e+09     2.000000              3.000000             0.000000   \n",
            "75%    1.447346e+09     2.000000              3.000000             0.000000   \n",
            "max    1.447425e+09     4.000000              6.000000             6.000000   \n",
            "\n",
            "         Product ID  Unit quantity       Weight  \n",
            "count  9.215000e+03    9215.000000  9215.000000  \n",
            "mean   1.680536e+06    3202.747151    19.871688  \n",
            "std    1.526593e+04   15965.622260    66.569064  \n",
            "min    1.613321e+06     235.000000     0.000000  \n",
            "25%    1.669702e+06     330.000000     1.407430  \n",
            "50%    1.683636e+06     477.000000     4.440000  \n",
            "75%    1.689554e+06    1275.500000    13.325673  \n",
            "max    1.702654e+06  561847.000000  2338.405126  \n",
            "\n",
            "\n",
            "FreightRates - Statistics for Numerical Data:\n",
            "       minm_wgh_qty   max_wgh_qty  minimum cost         rate  tpt_day_cnt\n",
            "count   1540.000000   1540.000000   1540.000000  1540.000000  1540.000000\n",
            "mean     155.886637   4636.143633     12.329033     2.892656     2.186364\n",
            "std      475.952049  20251.309727     22.946192     4.603877     2.000895\n",
            "min        0.000000      0.453592      1.202000     0.033200     0.000000\n",
            "25%       15.010000     21.500000      3.656800     0.470400     1.000000\n",
            "50%       41.010000     47.500000      7.417000     1.661200     2.000000\n",
            "75%       67.229614     99.990000     11.494500     3.932200     2.000000\n",
            "max    10000.000000  99999.990000    425.027200   128.027200    14.000000\n",
            "\n",
            "\n",
            "WarehouseCosts - Statistics for Numerical Data:\n",
            "       Cost/unit\n",
            "count  19.000000\n",
            "mean    0.724100\n",
            "std     0.495091\n",
            "min     0.371424\n",
            "25%     0.473605\n",
            "50%     0.522857\n",
            "75%     0.637046\n",
            "max     2.036254\n",
            "\n",
            "\n",
            "WarehouseCapacities - Statistics for Numerical Data:\n",
            "       Daily Capacity \n",
            "count        19.000000\n",
            "mean        304.789474\n",
            "std         323.513280\n",
            "min           7.000000\n",
            "25%          31.500000\n",
            "50%         209.000000\n",
            "75%         473.500000\n",
            "max        1070.000000\n",
            "\n",
            "\n",
            "ProductsPerPlant - Statistics for Numerical Data:\n",
            "         Product ID\n",
            "count  2.036000e+03\n",
            "mean   1.684180e+06\n",
            "std    1.314804e+04\n",
            "min    1.613321e+06\n",
            "25%    1.680697e+06\n",
            "50%    1.685270e+06\n",
            "75%    1.692999e+06\n",
            "max    1.702654e+06\n",
            "\n",
            "\n"
          ]
        }
      ]
    },
    {
      "cell_type": "markdown",
      "source": [
        "## Summarize key columns for categorical columns"
      ],
      "metadata": {
        "id": "keyOetKy8Cig"
      }
    }
  ]
}