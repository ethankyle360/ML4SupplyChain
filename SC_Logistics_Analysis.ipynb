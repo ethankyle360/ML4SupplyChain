{
  "nbformat": 4,
  "nbformat_minor": 0,
  "metadata": {
    "colab": {
      "provenance": [],
      "authorship_tag": "ABX9TyN43850iF55Tf95W4N972q/",
      "include_colab_link": true
    },
    "kernelspec": {
      "name": "python3",
      "display_name": "Python 3"
    },
    "language_info": {
      "name": "python"
    }
  },
  "cells": [
    {
      "cell_type": "markdown",
      "metadata": {
        "id": "view-in-github",
        "colab_type": "text"
      },
      "source": [
        "<a href=\"https://colab.research.google.com/github/ethankyle360/ML4SupplyChain/blob/main/SC_Logistics_Analysis.ipynb\" target=\"_parent\"><img src=\"https://colab.research.google.com/assets/colab-badge.svg\" alt=\"Open In Colab\"/></a>"
      ]
    },
    {
      "cell_type": "markdown",
      "source": [
        "# Supply Chain Logistics Analysis\n",
        "Goal: I need to make sure that I deliver the products to the customers without overstocking and keeping the costs as low as possible while getting the product delivered on time."
      ],
      "metadata": {
        "id": "6LO7wFvbOE6O"
      }
    },
    {
      "cell_type": "code",
      "execution_count": null,
      "metadata": {
        "id": "fik9qebUOA8H"
      },
      "outputs": [],
      "source": []
    }
  ]
}