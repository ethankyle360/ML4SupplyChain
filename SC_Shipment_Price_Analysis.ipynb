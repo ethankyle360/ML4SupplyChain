{
  "nbformat": 4,
  "nbformat_minor": 0,
  "metadata": {
    "colab": {
      "provenance": [],
      "authorship_tag": "ABX9TyOPrm7suWTtLXkS7j9mhtWY",
      "include_colab_link": true
    },
    "kernelspec": {
      "name": "python3",
      "display_name": "Python 3"
    },
    "language_info": {
      "name": "python"
    }
  },
  "cells": [
    {
      "cell_type": "markdown",
      "metadata": {
        "id": "view-in-github",
        "colab_type": "text"
      },
      "source": [
        "<a href=\"https://colab.research.google.com/github/ethankyle360/ML4SupplyChain/blob/main/SC_Shipment_Price_Analysis.ipynb\" target=\"_parent\"><img src=\"https://colab.research.google.com/assets/colab-badge.svg\" alt=\"Open In Colab\"/></a>"
      ]
    },
    {
      "cell_type": "markdown",
      "source": [
        "Import the following dependencies and packages."
      ],
      "metadata": {
        "id": "wzQdV6VJ3ruq"
      }
    },
    {
      "cell_type": "code",
      "execution_count": null,
      "metadata": {
        "colab": {
          "base_uri": "https://localhost:8080/",
          "height": 17
        },
        "id": "wZPNSGcf3Yw1",
        "outputId": "e92d2588-60af-4ce1-b41d-b8ceb306fcb1"
      },
      "outputs": [
        {
          "output_type": "display_data",
          "data": {
            "text/html": [
              "        <script type=\"text/javascript\">\n",
              "        window.PlotlyConfig = {MathJaxConfig: 'local'};\n",
              "        if (window.MathJax && window.MathJax.Hub && window.MathJax.Hub.Config) {window.MathJax.Hub.Config({SVG: {font: \"STIX-Web\"}});}\n",
              "        if (typeof require !== 'undefined') {\n",
              "        require.undef(\"plotly\");\n",
              "        requirejs.config({\n",
              "            paths: {\n",
              "                'plotly': ['https://cdn.plot.ly/plotly-2.24.1.min']\n",
              "            }\n",
              "        });\n",
              "        require(['plotly'], function(Plotly) {\n",
              "            window._Plotly = Plotly;\n",
              "        });\n",
              "        }\n",
              "        </script>\n",
              "        "
            ]
          },
          "metadata": {}
        }
      ],
      "source": [
        "import pandas as pd # For data manipulation and analysis so that working with structured data is easier\n",
        "import numpy as np # For complex numerical operations/computing\n",
        "from decimal import Decimal # For handling decimal numbers more accurately\n",
        "import matplotlib.pyplot as plt # For creating animated visualizations\n",
        "# For displaying plots below the code\n",
        "%matplotlib inline\n",
        "import seaborn as sn # Based on matplotlib, but creates more attractive statistical graphics\n",
        "import os # For interacting with the file system. E.g reading files, creating directories, and etc\n",
        "import plotly.graph_objs as go # For creating visually appealing graphs and charts\n",
        "import plotly.offline as py # For viewing plots offline without needing internet connection\n",
        "py.init_notebook_mode(connected=True) # Makes sure that Plotly graphs are displayed properly\n",
        "pd.options.mode.chained_assignment = None # Controls the setting on chained assignment of pandas\n",
        "pd.options.display.max_columns = 9999 # For displaying all the columns of a dataframe\n",
        "pd.options.display.float_format = '{:20,.2f}'.format # For showing two decimal places to make it easier to read"
      ]
    },
    {
      "cell_type": "code",
      "source": [],
      "metadata": {
        "id": "x_hM_BVE7uMg"
      },
      "execution_count": null,
      "outputs": []
    }
  ]
}