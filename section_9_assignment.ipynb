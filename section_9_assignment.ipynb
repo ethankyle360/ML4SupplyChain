{
  "nbformat": 4,
  "nbformat_minor": 0,
  "metadata": {
    "colab": {
      "provenance": [],
      "authorship_tag": "ABX9TyPrdkap3t0rCbcm/TK5bIV0",
      "include_colab_link": true
    },
    "kernelspec": {
      "name": "python3",
      "display_name": "Python 3"
    },
    "language_info": {
      "name": "python"
    }
  },
  "cells": [
    {
      "cell_type": "markdown",
      "metadata": {
        "id": "view-in-github",
        "colab_type": "text"
      },
      "source": [
        "<a href=\"https://colab.research.google.com/github/ethankyle360/ML4SupplyChain/blob/main/section_9_assignment.ipynb\" target=\"_parent\"><img src=\"https://colab.research.google.com/assets/colab-badge.svg\" alt=\"Open In Colab\"/></a>"
      ]
    },
    {
      "cell_type": "code",
      "execution_count": null,
      "metadata": {
        "id": "vSgEIdtRa5E1"
      },
      "outputs": [],
      "source": [
        "#1 - Import twenty eleven"
      ]
    },
    {
      "cell_type": "code",
      "source": [
        "#2 - Make sure to remove rows that have description NAs"
      ],
      "metadata": {
        "id": "tn8jdLIca_yx"
      },
      "execution_count": null,
      "outputs": []
    },
    {
      "cell_type": "code",
      "source": [
        "#2a - Manipulate data to have the quantity and revenue per SKU"
      ],
      "metadata": {
        "id": "OxFzYh2abFZa"
      },
      "execution_count": null,
      "outputs": []
    },
    {
      "cell_type": "code",
      "source": [
        "#3 - Apply the product mix function of inventory"
      ],
      "metadata": {
        "id": "ZYvMGR6_bL1e"
      },
      "execution_count": null,
      "outputs": []
    },
    {
      "cell_type": "code",
      "source": [
        "#4 - Manipulate data to have the quantity and revenue per SKU per country"
      ],
      "metadata": {
        "id": "Inq-kfcQbQxc"
      },
      "execution_count": null,
      "outputs": []
    },
    {
      "cell_type": "code",
      "source": [
        "#5 - Apply the product mix store level function"
      ],
      "metadata": {
        "id": "jU_syeIkbXp3"
      },
      "execution_count": null,
      "outputs": []
    }
  ]
}