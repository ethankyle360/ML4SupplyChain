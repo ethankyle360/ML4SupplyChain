{
  "nbformat": 4,
  "nbformat_minor": 0,
  "metadata": {
    "colab": {
      "provenance": [],
      "authorship_tag": "ABX9TyMjzJJC/YItI5u9o7jo5dqT",
      "include_colab_link": true
    },
    "kernelspec": {
      "name": "python3",
      "display_name": "Python 3"
    },
    "language_info": {
      "name": "python"
    }
  },
  "cells": [
    {
      "cell_type": "markdown",
      "metadata": {
        "id": "view-in-github",
        "colab_type": "text"
      },
      "source": [
        "<a href=\"https://colab.research.google.com/github/ethankyle360/ML4SupplyChain/blob/main/section_9_assignment.ipynb\" target=\"_parent\"><img src=\"https://colab.research.google.com/assets/colab-badge.svg\" alt=\"Open In Colab\"/></a>"
      ]
    },
    {
      "cell_type": "code",
      "execution_count": 2,
      "metadata": {
        "colab": {
          "base_uri": "https://localhost:8080/"
        },
        "id": "vSgEIdtRa5E1",
        "outputId": "07e31158-30ca-4c9f-b782-a8172b31ca75"
      },
      "outputs": [
        {
          "output_type": "stream",
          "name": "stdout",
          "text": [
            "Collecting inventorize\n",
            "  Downloading inventorize-1.2.3-py3-none-any.whl (31 kB)\n",
            "Requirement already satisfied: scipy in /usr/local/lib/python3.10/dist-packages (from inventorize) (1.11.4)\n",
            "Requirement already satisfied: scikit-learn in /usr/local/lib/python3.10/dist-packages (from inventorize) (1.2.2)\n",
            "Requirement already satisfied: pandas>=0.23.3 in /usr/local/lib/python3.10/dist-packages (from inventorize) (2.0.3)\n",
            "Requirement already satisfied: numpy>=1.14.5 in /usr/local/lib/python3.10/dist-packages (from inventorize) (1.25.2)\n",
            "Requirement already satisfied: plotly in /usr/local/lib/python3.10/dist-packages (from inventorize) (5.15.0)\n",
            "Requirement already satisfied: statsmodels in /usr/local/lib/python3.10/dist-packages (from inventorize) (0.14.2)\n",
            "Requirement already satisfied: python-dateutil>=2.8.2 in /usr/local/lib/python3.10/dist-packages (from pandas>=0.23.3->inventorize) (2.8.2)\n",
            "Requirement already satisfied: pytz>=2020.1 in /usr/local/lib/python3.10/dist-packages (from pandas>=0.23.3->inventorize) (2023.4)\n",
            "Requirement already satisfied: tzdata>=2022.1 in /usr/local/lib/python3.10/dist-packages (from pandas>=0.23.3->inventorize) (2024.1)\n",
            "Requirement already satisfied: tenacity>=6.2.0 in /usr/local/lib/python3.10/dist-packages (from plotly->inventorize) (8.5.0)\n",
            "Requirement already satisfied: packaging in /usr/local/lib/python3.10/dist-packages (from plotly->inventorize) (24.1)\n",
            "Requirement already satisfied: joblib>=1.1.1 in /usr/local/lib/python3.10/dist-packages (from scikit-learn->inventorize) (1.4.2)\n",
            "Requirement already satisfied: threadpoolctl>=2.0.0 in /usr/local/lib/python3.10/dist-packages (from scikit-learn->inventorize) (3.5.0)\n",
            "Requirement already satisfied: patsy>=0.5.6 in /usr/local/lib/python3.10/dist-packages (from statsmodels->inventorize) (0.5.6)\n",
            "Requirement already satisfied: six in /usr/local/lib/python3.10/dist-packages (from patsy>=0.5.6->statsmodels->inventorize) (1.16.0)\n",
            "Installing collected packages: inventorize\n",
            "Successfully installed inventorize-1.2.3\n"
          ]
        }
      ],
      "source": [
        "#1 - Import twenty eleven\n",
        "import pandas as pd\n",
        "!pip install inventorize\n",
        "import inventorize as inv"
      ]
    },
    {
      "cell_type": "code",
      "source": [
        "#2 - Make sure to remove rows that have description NAs\n",
        "twenty = pd.read_csv('twentyeleven.csv')"
      ],
      "metadata": {
        "id": "tn8jdLIca_yx"
      },
      "execution_count": 4,
      "outputs": []
    },
    {
      "cell_type": "code",
      "source": [
        "#3 - Manipulate data to have the quantity and revenue per SKU\n",
        "grouped_sku = twenty.groupby('Description').agg(total_sales= ('Quantity','sum'),\n",
        "                                                total_revenue= ('revenue','sum')).reset_index()"
      ],
      "metadata": {
        "id": "OxFzYh2abFZa"
      },
      "execution_count": 5,
      "outputs": []
    },
    {
      "cell_type": "code",
      "source": [
        "#4 - Apply the product mix function of inventory\n",
        "product_mix = inv.productmix(grouped_sku['Description'], grouped_sku['total_sales'],\n",
        "                             grouped_sku['total_revenue'])"
      ],
      "metadata": {
        "id": "ZYvMGR6_bL1e"
      },
      "execution_count": 6,
      "outputs": []
    },
    {
      "cell_type": "code",
      "source": [
        "#5 - How many A_A products and C_C products have you found?\n",
        "product_mix.product_mix.value_counts()"
      ],
      "metadata": {
        "colab": {
          "base_uri": "https://localhost:8080/"
        },
        "id": "ypgOe5gCe2f4",
        "outputId": "e24dffa5-d772-4241-cc10-2a11e5b7c067"
      },
      "execution_count": 8,
      "outputs": [
        {
          "output_type": "execute_result",
          "data": {
            "text/plain": [
              "product_mix\n",
              "C_C    1779\n",
              "A_A     569\n",
              "B_B     421\n",
              "C_B     283\n",
              "A_B     272\n",
              "B_C     270\n",
              "B_A     189\n",
              "C_A      58\n",
              "A_C      56\n",
              "Name: count, dtype: int64"
            ]
          },
          "metadata": {},
          "execution_count": 8
        }
      ]
    },
    {
      "cell_type": "code",
      "source": [
        "#5 - Manipulate data to have the quantity and revenue per SKU per country\n",
        "grouped_sku_country = twenty.groupby(['Description','Country']).agg(total_sales= ('Quantity','sum'),\n",
        "                                                total_revenue= ('revenue','sum')).reset_index()"
      ],
      "metadata": {
        "id": "Inq-kfcQbQxc"
      },
      "execution_count": 10,
      "outputs": []
    },
    {
      "cell_type": "code",
      "source": [
        "#6 - Apply the product mix store level function\n"
      ],
      "metadata": {
        "id": "jU_syeIkbXp3"
      },
      "execution_count": null,
      "outputs": []
    }
  ]
}