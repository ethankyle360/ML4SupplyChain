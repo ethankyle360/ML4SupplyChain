{
  "nbformat": 4,
  "nbformat_minor": 0,
  "metadata": {
    "colab": {
      "provenance": [],
      "authorship_tag": "ABX9TyNCPiM3p6cQ1oHctA2QZ/yU",
      "include_colab_link": true
    },
    "kernelspec": {
      "name": "python3",
      "display_name": "Python 3"
    },
    "language_info": {
      "name": "python"
    }
  },
  "cells": [
    {
      "cell_type": "markdown",
      "metadata": {
        "id": "view-in-github",
        "colab_type": "text"
      },
      "source": [
        "<a href=\"https://colab.research.google.com/github/ethankyle360/ML4SupplyChain/blob/main/economic_order_quantity.ipynb\" target=\"_parent\"><img src=\"https://colab.research.google.com/assets/colab-badge.svg\" alt=\"Open In Colab\"/></a>"
      ]
    },
    {
      "cell_type": "markdown",
      "source": [
        "# EOC\n",
        "You are the supply chain manager of Coffee Co., a well-known brand for coffee Columbian blend.\n",
        "Coffee Co. takes raw coffee from its partner supplier in Columbia.\n",
        "The annual demand for raw coffee is 4000 tons per year. The price of one ton from the supplier is 2500 USD. Assume a holding rate of 10% while the cost of transportation and ordering is 5000 USD. What should be the optimal Q.\n",
        "What is the total logistics cost? What is your Q practical?\n",
        "If the supplier will offer you a 10% discount if your Q is 3500, would you accept it."
      ],
      "metadata": {
        "id": "Q7oZWhaBqh31"
      }
    },
    {
      "cell_type": "code",
      "execution_count": null,
      "metadata": {
        "id": "oBs_ffboqcFb"
      },
      "outputs": [],
      "source": []
    }
  ]
}