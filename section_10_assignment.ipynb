{
  "nbformat": 4,
  "nbformat_minor": 0,
  "metadata": {
    "colab": {
      "provenance": [],
      "authorship_tag": "ABX9TyOz6lf72XcjVlPG5IaDewnQ",
      "include_colab_link": true
    },
    "kernelspec": {
      "name": "python3",
      "display_name": "Python 3"
    },
    "language_info": {
      "name": "python"
    }
  },
  "cells": [
    {
      "cell_type": "markdown",
      "metadata": {
        "id": "view-in-github",
        "colab_type": "text"
      },
      "source": [
        "<a href=\"https://colab.research.google.com/github/ethankyle360/ML4SupplyChain/blob/main/section_10_assignment.ipynb\" target=\"_parent\"><img src=\"https://colab.research.google.com/assets/colab-badge.svg\" alt=\"Open In Colab\"/></a>"
      ]
    },
    {
      "cell_type": "markdown",
      "source": [
        "Assignment: Manipulate data to get weekly sales of a UK retailer, you will need the month and trend to fit a linear regression model."
      ],
      "metadata": {
        "id": "pKyxLidDDX5U"
      }
    },
    {
      "cell_type": "code",
      "execution_count": 3,
      "metadata": {
        "collapsed": true,
        "id": "5Xz7roJADXMp"
      },
      "outputs": [],
      "source": [
        "import pandas as pd\n",
        "import numpy as np\n",
        "import seaborn as sns\n",
        "from sklearn.linear_model import LinearRegression\n",
        "retail_clean = pd.read_csv('retail_clean.csv')"
      ]
    },
    {
      "cell_type": "code",
      "source": [
        "retail_clean.info()\n",
        "retail_clean.InvoiceDate\n",
        "retail_clean['InvoiceDate'] = pd.to_datetime(retail_clean['InvoiceDate'])\n",
        "retail_clean['date'] = retail_clean['InvoiceDate'].dt.strftime('%Y-%m-%d')\n",
        "retail_clean['date'] = pd.to_datetime(retail_clean['date'])"
      ],
      "metadata": {
        "colab": {
          "base_uri": "https://localhost:8080/"
        },
        "collapsed": true,
        "id": "EEfg1JcuGI__",
        "outputId": "3b5cb31c-bcc0-4d9b-a9f1-f36ed4421cee"
      },
      "execution_count": 4,
      "outputs": [
        {
          "output_type": "stream",
          "name": "stdout",
          "text": [
            "<class 'pandas.core.frame.DataFrame'>\n",
            "RangeIndex: 679373 entries, 0 to 679372\n",
            "Data columns (total 10 columns):\n",
            " #   Column       Non-Null Count   Dtype  \n",
            "---  ------       --------------   -----  \n",
            " 0   Unnamed: 0   679373 non-null  int64  \n",
            " 1   Invoice      679373 non-null  int64  \n",
            " 2   StockCode    679373 non-null  object \n",
            " 3   Description  679373 non-null  object \n",
            " 4   Quantity     679372 non-null  float64\n",
            " 5   InvoiceDate  679372 non-null  object \n",
            " 6   Price        679372 non-null  float64\n",
            " 7   Customer ID  679372 non-null  float64\n",
            " 8   Country      679372 non-null  object \n",
            " 9   Revenue      679372 non-null  float64\n",
            "dtypes: float64(4), int64(2), object(4)\n",
            "memory usage: 51.8+ MB\n"
          ]
        }
      ]
    },
    {
      "cell_type": "code",
      "source": [
        "retail_clean['month'] = retail_clean.date.dt.month\n",
        "retail_clean['year'] = retail_clean.date.dt.year\n",
        "retail_clean['week'] = retail_clean.date.dt.isocalendar().week # Use .dt.isocalendar().week to extract week number"
      ],
      "metadata": {
        "id": "JV40lmShG0HS"
      },
      "execution_count": 6,
      "outputs": []
    },
    {
      "cell_type": "code",
      "source": [
        "retail_clean.columns\n",
        "retail_clean.month.describe()\n",
        "time_series = retail_clean.groupby('date').agg(total_sales = ('Quantity', np.sum)).reset_index().sort_values('date')"
      ],
      "metadata": {
        "id": "LUC8p40xHTsT"
      },
      "execution_count": 8,
      "outputs": []
    }
  ]
}