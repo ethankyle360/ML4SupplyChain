{
  "nbformat": 4,
  "nbformat_minor": 0,
  "metadata": {
    "colab": {
      "provenance": [],
      "authorship_tag": "ABX9TyMWHlKYLGG8fADxzRNKI9Ph",
      "include_colab_link": true
    },
    "kernelspec": {
      "name": "python3",
      "display_name": "Python 3"
    },
    "language_info": {
      "name": "python"
    }
  },
  "cells": [
    {
      "cell_type": "markdown",
      "metadata": {
        "id": "view-in-github",
        "colab_type": "text"
      },
      "source": [
        "<a href=\"https://colab.research.google.com/github/ethankyle360/ML4SupplyChain/blob/main/Section_16_Assignment.ipynb\" target=\"_parent\"><img src=\"https://colab.research.google.com/assets/colab-badge.svg\" alt=\"Open In Colab\"/></a>"
      ]
    },
    {
      "cell_type": "markdown",
      "source": [
        "For this assignment, we will work on the UK and Ireland dataset and create a re-ordering policy for every SKU's assuming we have a common warehouse for both UK customers and Ireland.\n",
        "\n",
        "Instructions:\n",
        "1.   Make a new script.\n",
        "2.   Filter the last 90 days of the UK and Ireland.\n",
        "3.   Transform the data to make ABC analysis and set the service level. Calculate for the ABC.\n",
        "4.   Calculate the average daily demand and the standard deviation per SKU. Do the ABC analysis and join them with the expected sales and standard deviation. Set service level for\n",
        "A_A, B_A, C_A to 80%, A_C, A_B, B_B to 70%, C_C, C_B, B_C to 60%\n",
        "\n",
        "5. Calculate the re-order point per each SKU's. Let's assume that the lead time is 21 days for all the SKU's. Also, assume that the standard deviation of the lead time is 2 days for all SKU's."
      ],
      "metadata": {
        "id": "sozsq3IW-pHh"
      }
    },
    {
      "cell_type": "code",
      "execution_count": null,
      "metadata": {
        "id": "jcJ5Zvcw-hVO"
      },
      "outputs": [],
      "source": []
    }
  ]
}