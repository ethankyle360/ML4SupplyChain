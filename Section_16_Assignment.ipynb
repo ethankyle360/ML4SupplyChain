{
  "nbformat": 4,
  "nbformat_minor": 0,
  "metadata": {
    "colab": {
      "provenance": [],
      "authorship_tag": "ABX9TyOzOKw9blL3VIxtR1EvLx5t",
      "include_colab_link": true
    },
    "kernelspec": {
      "name": "python3",
      "display_name": "Python 3"
    },
    "language_info": {
      "name": "python"
    }
  },
  "cells": [
    {
      "cell_type": "markdown",
      "metadata": {
        "id": "view-in-github",
        "colab_type": "text"
      },
      "source": [
        "<a href=\"https://colab.research.google.com/github/ethankyle360/ML4SupplyChain/blob/main/Section_16_Assignment.ipynb\" target=\"_parent\"><img src=\"https://colab.research.google.com/assets/colab-badge.svg\" alt=\"Open In Colab\"/></a>"
      ]
    },
    {
      "cell_type": "markdown",
      "source": [
        "For this assignment, we will work on the UK and Ireland dataset and create a re-ordering policy for every SKU's assuming we have a common warehouse for both UK customers and Ireland.\n",
        "\n",
        "Instructions:\n",
        "1.   Make a new script.\n",
        "2.   Filter the last 90 days of the UK and Ireland.\n",
        "3.   Transform the data to make ABC analysis and set the service level. Calculate for the ABC.\n",
        "4.   Calculate the average daily demand and the standard deviation per SKU. Do the ABC analysis and join them with the expected sales and standard deviation. Set service level for\n",
        "A_A, B_A, C_A to 80%, A_C, A_B, B_B to 70%, C_C, C_B, B_C to 60%\n",
        "\n",
        "5. Calculate the re-order point per each SKU's. Let's assume that the lead time is 21 days for all the SKU's. Also, assume that the standard deviation of the lead time is 2 days for all SKU's."
      ],
      "metadata": {
        "id": "sozsq3IW-pHh"
      }
    },
    {
      "cell_type": "code",
      "source": [
        "!pip install inventorize1"
      ],
      "metadata": {
        "collapsed": true,
        "id": "qQwC-0mDCZaS"
      },
      "execution_count": null,
      "outputs": []
    },
    {
      "cell_type": "code",
      "execution_count": 2,
      "metadata": {
        "id": "jcJ5Zvcw-hVO"
      },
      "outputs": [],
      "source": [
        "import pandas as pd\n",
        "import inventorize1 as inv\n",
        "import datetime\n",
        "import numpy as np\n",
        "retail = pd.read_csv('Uk_Ireland.csv')"
      ]
    },
    {
      "cell_type": "code",
      "source": [
        "retail = retail.drop_duplicates()\n",
        "retail = retail.dropna(axis=0)"
      ],
      "metadata": {
        "id": "oDAqyPFR5ITi"
      },
      "execution_count": 3,
      "outputs": []
    },
    {
      "cell_type": "code",
      "source": [
        "retail.info()"
      ],
      "metadata": {
        "colab": {
          "base_uri": "https://localhost:8080/"
        },
        "id": "ewzGmY6v5awC",
        "outputId": "d53a78f5-2994-4e6d-a052-be9f80d54988"
      },
      "execution_count": 4,
      "outputs": [
        {
          "output_type": "stream",
          "name": "stdout",
          "text": [
            "<class 'pandas.core.frame.DataFrame'>\n",
            "Index: 598177 entries, 0 to 790077\n",
            "Data columns (total 12 columns):\n",
            " #   Column       Non-Null Count   Dtype  \n",
            "---  ------       --------------   -----  \n",
            " 0   Invoice      598177 non-null  float64\n",
            " 1   StockCode    598177 non-null  object \n",
            " 2   Description  598177 non-null  object \n",
            " 3   Quantity     598177 non-null  float64\n",
            " 4   InvoiceDate  598177 non-null  object \n",
            " 5   Price        598177 non-null  float64\n",
            " 6   Customer.ID  598177 non-null  float64\n",
            " 7   Country      598177 non-null  object \n",
            " 8   date         598177 non-null  object \n",
            " 9   revenue      598177 non-null  float64\n",
            " 10  year         598177 non-null  float64\n",
            " 11  month        598177 non-null  object \n",
            "dtypes: float64(6), object(6)\n",
            "memory usage: 59.3+ MB\n"
          ]
        }
      ]
    },
    {
      "cell_type": "code",
      "source": [
        "retail.InvoiceDate"
      ],
      "metadata": {
        "colab": {
          "base_uri": "https://localhost:8080/",
          "height": 458
        },
        "id": "d3ppKs-J5hwd",
        "outputId": "f85a56c2-34ac-40d2-cb6e-4bef2aae05e0"
      },
      "execution_count": 5,
      "outputs": [
        {
          "output_type": "execute_result",
          "data": {
            "text/plain": [
              "0         2009-12-01T07:45:00Z\n",
              "1         2009-12-01T07:45:00Z\n",
              "2         2009-12-01T07:45:00Z\n",
              "3         2009-12-01T07:45:00Z\n",
              "4         2009-12-01T07:45:00Z\n",
              "                  ...         \n",
              "790073    2011-10-02T12:45:00Z\n",
              "790074    2011-10-02T12:45:00Z\n",
              "790075    2011-10-02T12:45:00Z\n",
              "790076    2011-10-02T12:45:00Z\n",
              "790077    2011-10-02T12:45:00Z\n",
              "Name: InvoiceDate, Length: 598177, dtype: object"
            ],
            "text/html": [
              "<div>\n",
              "<style scoped>\n",
              "    .dataframe tbody tr th:only-of-type {\n",
              "        vertical-align: middle;\n",
              "    }\n",
              "\n",
              "    .dataframe tbody tr th {\n",
              "        vertical-align: top;\n",
              "    }\n",
              "\n",
              "    .dataframe thead th {\n",
              "        text-align: right;\n",
              "    }\n",
              "</style>\n",
              "<table border=\"1\" class=\"dataframe\">\n",
              "  <thead>\n",
              "    <tr style=\"text-align: right;\">\n",
              "      <th></th>\n",
              "      <th>InvoiceDate</th>\n",
              "    </tr>\n",
              "  </thead>\n",
              "  <tbody>\n",
              "    <tr>\n",
              "      <th>0</th>\n",
              "      <td>2009-12-01T07:45:00Z</td>\n",
              "    </tr>\n",
              "    <tr>\n",
              "      <th>1</th>\n",
              "      <td>2009-12-01T07:45:00Z</td>\n",
              "    </tr>\n",
              "    <tr>\n",
              "      <th>2</th>\n",
              "      <td>2009-12-01T07:45:00Z</td>\n",
              "    </tr>\n",
              "    <tr>\n",
              "      <th>3</th>\n",
              "      <td>2009-12-01T07:45:00Z</td>\n",
              "    </tr>\n",
              "    <tr>\n",
              "      <th>4</th>\n",
              "      <td>2009-12-01T07:45:00Z</td>\n",
              "    </tr>\n",
              "    <tr>\n",
              "      <th>...</th>\n",
              "      <td>...</td>\n",
              "    </tr>\n",
              "    <tr>\n",
              "      <th>790073</th>\n",
              "      <td>2011-10-02T12:45:00Z</td>\n",
              "    </tr>\n",
              "    <tr>\n",
              "      <th>790074</th>\n",
              "      <td>2011-10-02T12:45:00Z</td>\n",
              "    </tr>\n",
              "    <tr>\n",
              "      <th>790075</th>\n",
              "      <td>2011-10-02T12:45:00Z</td>\n",
              "    </tr>\n",
              "    <tr>\n",
              "      <th>790076</th>\n",
              "      <td>2011-10-02T12:45:00Z</td>\n",
              "    </tr>\n",
              "    <tr>\n",
              "      <th>790077</th>\n",
              "      <td>2011-10-02T12:45:00Z</td>\n",
              "    </tr>\n",
              "  </tbody>\n",
              "</table>\n",
              "<p>598177 rows × 1 columns</p>\n",
              "</div><br><label><b>dtype:</b> object</label>"
            ]
          },
          "metadata": {},
          "execution_count": 5
        }
      ]
    },
    {
      "cell_type": "code",
      "source": [
        "retail['InvoiceDate'] = pd.to_datetime(retail['InvoiceDate'])"
      ],
      "metadata": {
        "id": "S1fdde-25mWs"
      },
      "execution_count": 6,
      "outputs": []
    },
    {
      "cell_type": "code",
      "source": [
        "retail['date'] = retail.InvoiceDate.dt.strftime('%Y-%m-%d')"
      ],
      "metadata": {
        "id": "67LJD9dw5y-c"
      },
      "execution_count": 7,
      "outputs": []
    },
    {
      "cell_type": "code",
      "source": [
        "retail['date'] = pd.to_datetime(retail['date'])"
      ],
      "metadata": {
        "id": "C_DDzj9i585K"
      },
      "execution_count": 8,
      "outputs": []
    },
    {
      "cell_type": "code",
      "source": [
        "max_data = max(retail.date)"
      ],
      "metadata": {
        "id": "rwE83YNg6Xvb"
      },
      "execution_count": 9,
      "outputs": []
    },
    {
      "cell_type": "code",
      "source": [
        "last_three = retail[retail.date > '2011-09-09']"
      ],
      "metadata": {
        "id": "N7xA2qQFC0wg"
      },
      "execution_count": 10,
      "outputs": []
    },
    {
      "cell_type": "code",
      "source": [
        "last_three.columns"
      ],
      "metadata": {
        "colab": {
          "base_uri": "https://localhost:8080/"
        },
        "id": "gkGgTMUxDCsm",
        "outputId": "7d0f1b87-042a-4ca2-8360-14831bbbccda"
      },
      "execution_count": 11,
      "outputs": [
        {
          "output_type": "execute_result",
          "data": {
            "text/plain": [
              "Index(['Invoice', 'StockCode', 'Description', 'Quantity', 'InvoiceDate',\n",
              "       'Price', 'Customer.ID', 'Country', 'date', 'revenue', 'year', 'month'],\n",
              "      dtype='object')"
            ]
          },
          "metadata": {},
          "execution_count": 11
        }
      ]
    }
  ]
}