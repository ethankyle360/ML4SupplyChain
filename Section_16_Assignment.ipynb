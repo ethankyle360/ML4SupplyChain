{
  "nbformat": 4,
  "nbformat_minor": 0,
  "metadata": {
    "colab": {
      "provenance": [],
      "authorship_tag": "ABX9TyOzoQaWHBYv0tSaZKZiOfRF",
      "include_colab_link": true
    },
    "kernelspec": {
      "name": "python3",
      "display_name": "Python 3"
    },
    "language_info": {
      "name": "python"
    }
  },
  "cells": [
    {
      "cell_type": "markdown",
      "metadata": {
        "id": "view-in-github",
        "colab_type": "text"
      },
      "source": [
        "<a href=\"https://colab.research.google.com/github/ethankyle360/ML4SupplyChain/blob/main/Section_16_Assignment.ipynb\" target=\"_parent\"><img src=\"https://colab.research.google.com/assets/colab-badge.svg\" alt=\"Open In Colab\"/></a>"
      ]
    },
    {
      "cell_type": "markdown",
      "source": [
        "For this assignment, we will work on the UK and Ireland dataset and create a re-ordering policy for every SKU's assuming we have a common warehouse for both UK customers and Ireland.\n",
        "\n",
        "Instructions:\n",
        "1.   Make a new script.\n",
        "2.   Filter the last 90 days of the UK and Ireland.\n",
        "3.   Transform the data to make ABC analysis and set the service level. Calculate for the ABC.\n",
        "4.   Calculate the average daily demand and the standard deviation per SKU. Do the ABC analysis and join them with the expected sales and standard deviation. Set service level for\n",
        "A_A, B_A, C_A to 80%, A_C, A_B, B_B to 70%, C_C, C_B, B_C to 60%\n",
        "\n",
        "5. Calculate the re-order point per each SKU's. Let's assume that the lead time is 21 days for all the SKU's. Also, assume that the standard deviation of the lead time is 2 days for all SKU's."
      ],
      "metadata": {
        "id": "sozsq3IW-pHh"
      }
    },
    {
      "cell_type": "code",
      "source": [
        "!pip install inventorize1"
      ],
      "metadata": {
        "collapsed": true,
        "colab": {
          "base_uri": "https://localhost:8080/"
        },
        "id": "qQwC-0mDCZaS",
        "outputId": "e9b00417-4bb2-4da0-fe2a-c325ffc0b062"
      },
      "execution_count": 1,
      "outputs": [
        {
          "output_type": "stream",
          "name": "stdout",
          "text": [
            "Collecting inventorize1\n",
            "  Downloading inventorize1-0.0.2.tar.gz (16 kB)\n",
            "  Preparing metadata (setup.py) ... \u001b[?25l\u001b[?25hdone\n",
            "Requirement already satisfied: scipy in /usr/local/lib/python3.10/dist-packages (from inventorize1) (1.13.1)\n",
            "Requirement already satisfied: scikit-learn in /usr/local/lib/python3.10/dist-packages (from inventorize1) (1.3.2)\n",
            "Requirement already satisfied: pandas>=0.23.3 in /usr/local/lib/python3.10/dist-packages (from inventorize1) (2.1.4)\n",
            "Requirement already satisfied: numpy>=1.14.5 in /usr/local/lib/python3.10/dist-packages (from inventorize1) (1.26.4)\n",
            "Requirement already satisfied: python-dateutil>=2.8.2 in /usr/local/lib/python3.10/dist-packages (from pandas>=0.23.3->inventorize1) (2.8.2)\n",
            "Requirement already satisfied: pytz>=2020.1 in /usr/local/lib/python3.10/dist-packages (from pandas>=0.23.3->inventorize1) (2024.1)\n",
            "Requirement already satisfied: tzdata>=2022.1 in /usr/local/lib/python3.10/dist-packages (from pandas>=0.23.3->inventorize1) (2024.1)\n",
            "Requirement already satisfied: joblib>=1.1.1 in /usr/local/lib/python3.10/dist-packages (from scikit-learn->inventorize1) (1.4.2)\n",
            "Requirement already satisfied: threadpoolctl>=2.0.0 in /usr/local/lib/python3.10/dist-packages (from scikit-learn->inventorize1) (3.5.0)\n",
            "Requirement already satisfied: six>=1.5 in /usr/local/lib/python3.10/dist-packages (from python-dateutil>=2.8.2->pandas>=0.23.3->inventorize1) (1.16.0)\n",
            "Building wheels for collected packages: inventorize1\n",
            "  Building wheel for inventorize1 (setup.py) ... \u001b[?25l\u001b[?25hdone\n",
            "  Created wheel for inventorize1: filename=inventorize1-0.0.2-py3-none-any.whl size=15612 sha256=0b2dc313f7cfdf82d201acf6bbaf78e0a47fd226504d7191a36cfd82c7344b0b\n",
            "  Stored in directory: /root/.cache/pip/wheels/88/ff/6d/cc065d3a5380732f2c1c06faae76d805a83ebc3c4412cd9eed\n",
            "Successfully built inventorize1\n",
            "Installing collected packages: inventorize1\n",
            "Successfully installed inventorize1-0.0.2\n"
          ]
        }
      ]
    },
    {
      "cell_type": "code",
      "execution_count": 2,
      "metadata": {
        "id": "jcJ5Zvcw-hVO"
      },
      "outputs": [],
      "source": [
        "import pandas as pd\n",
        "import inventorize1 as inv\n",
        "import datetime\n",
        "import numpy as np\n",
        "retail = pd.read_csv('Uk_Ireland.csv')"
      ]
    },
    {
      "cell_type": "code",
      "source": [
        "retail = retail.drop_duplicates()\n",
        "retail = retail.dropna(axis=0)"
      ],
      "metadata": {
        "id": "oDAqyPFR5ITi"
      },
      "execution_count": 3,
      "outputs": []
    },
    {
      "cell_type": "code",
      "source": [
        "retail.info()"
      ],
      "metadata": {
        "colab": {
          "base_uri": "https://localhost:8080/"
        },
        "id": "ewzGmY6v5awC",
        "outputId": "210af973-ce92-4235-8f64-ad584627a3de"
      },
      "execution_count": 4,
      "outputs": [
        {
          "output_type": "stream",
          "name": "stdout",
          "text": [
            "<class 'pandas.core.frame.DataFrame'>\n",
            "Index: 398925 entries, 0 to 522842\n",
            "Data columns (total 12 columns):\n",
            " #   Column       Non-Null Count   Dtype  \n",
            "---  ------       --------------   -----  \n",
            " 0   Invoice      398925 non-null  float64\n",
            " 1   StockCode    398925 non-null  object \n",
            " 2   Description  398925 non-null  object \n",
            " 3   Quantity     398925 non-null  float64\n",
            " 4   InvoiceDate  398925 non-null  object \n",
            " 5   Price        398925 non-null  float64\n",
            " 6   Customer.ID  398925 non-null  float64\n",
            " 7   Country      398925 non-null  object \n",
            " 8   date         398925 non-null  object \n",
            " 9   revenue      398925 non-null  float64\n",
            " 10  year         398925 non-null  float64\n",
            " 11  month        398925 non-null  object \n",
            "dtypes: float64(6), object(6)\n",
            "memory usage: 39.6+ MB\n"
          ]
        }
      ]
    },
    {
      "cell_type": "code",
      "source": [
        "retail.InvoiceDate"
      ],
      "metadata": {
        "colab": {
          "base_uri": "https://localhost:8080/"
        },
        "id": "d3ppKs-J5hwd",
        "outputId": "b118adec-7e74-4975-ca58-4133389181e8"
      },
      "execution_count": 5,
      "outputs": [
        {
          "output_type": "execute_result",
          "data": {
            "text/plain": [
              "0         2009-12-01T07:45:00Z\n",
              "1         2009-12-01T07:45:00Z\n",
              "2         2009-12-01T07:45:00Z\n",
              "3         2009-12-01T07:45:00Z\n",
              "4         2009-12-01T07:45:00Z\n",
              "                  ...         \n",
              "522838    2011-01-27T14:48:00Z\n",
              "522839    2011-01-27T14:48:00Z\n",
              "522840    2011-01-27T14:48:00Z\n",
              "522841    2011-01-27T14:48:00Z\n",
              "522842    2011-01-27T14:48:00Z\n",
              "Name: InvoiceDate, Length: 398925, dtype: object"
            ]
          },
          "metadata": {},
          "execution_count": 5
        }
      ]
    },
    {
      "cell_type": "code",
      "source": [
        "retail['InvoiceDate'] = pd.to_datetime(retail['InvoiceDate'])"
      ],
      "metadata": {
        "id": "S1fdde-25mWs"
      },
      "execution_count": 6,
      "outputs": []
    },
    {
      "cell_type": "code",
      "source": [
        "retail['date'] = retail.InvoiceDate.dt.strftime('%Y-%m-%d')"
      ],
      "metadata": {
        "id": "67LJD9dw5y-c"
      },
      "execution_count": 7,
      "outputs": []
    },
    {
      "cell_type": "code",
      "source": [
        "retail['date'] = pd.to_datetime(retail['date'])"
      ],
      "metadata": {
        "id": "C_DDzj9i585K"
      },
      "execution_count": 8,
      "outputs": []
    }
  ]
}