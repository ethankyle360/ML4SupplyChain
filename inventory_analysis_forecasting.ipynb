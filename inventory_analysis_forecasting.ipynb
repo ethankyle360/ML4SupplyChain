{
  "nbformat": 4,
  "nbformat_minor": 0,
  "metadata": {
    "colab": {
      "provenance": [],
      "authorship_tag": "ABX9TyOSESajTdStvrtuH2EzkHGG",
      "include_colab_link": true
    },
    "kernelspec": {
      "name": "python3",
      "display_name": "Python 3"
    },
    "language_info": {
      "name": "python"
    }
  },
  "cells": [
    {
      "cell_type": "markdown",
      "metadata": {
        "id": "view-in-github",
        "colab_type": "text"
      },
      "source": [
        "<a href=\"https://colab.research.google.com/github/ethankyle360/ML4SupplyChain/blob/main/inventory_analysis_forecasting.ipynb\" target=\"_parent\"><img src=\"https://colab.research.google.com/assets/colab-badge.svg\" alt=\"Open In Colab\"/></a>"
      ]
    },
    {
      "cell_type": "markdown",
      "source": [
        "# Inventory Analysis and Forecasting\n",
        "Link to Datacard: https://www.kaggle.com/datasets/bhanupratapbiswas/inventory-analysis-case-study/data?select=2017PurchasePricesDec.csv\n",
        "\n",
        "## Background\n",
        "Any Manufacturing Company is a medium-sized manufacturing company that produces electronic components. They have a wide range of products and maintain an inventory of raw materials, work-in-progress (WIP), and finished goods. The company has been experiencing issues with inventory management, including stockouts, excess inventory, and increased carrying costs. The management team wants to conduct an inventory analysis to identify areas for improvement and optimize their inventory management practices.\n",
        "\n",
        "\n",
        "---\n",
        "\n",
        "## Objectives:\n",
        "The primary objectives of the inventory analysis are as follows:\n",
        "\n",
        "*   Determine the optimal inventory levels for raw materials, WIP, and finished goods.\n",
        "*   Identify opportunities to reduce stockouts and excess inventory.\n",
        "*   Analyze inventory turnover and carrying costs to optimize working capital.\n",
        "*   Streamline the procurement and production processes to improve efficiency.\n",
        "*   Develop a sustainable inventory management strategy for future growth.\n",
        "---\n",
        "\n",
        "## Methodology\n",
        "### Data Exploration\n",
        "*   Load Data\n",
        "*   Exploratory Data Analysis\n",
        "\n",
        "### Advance Analysis\n",
        "*   Demand Forecasting\n",
        "*   ABC Analysis\n",
        "*   Economic Order Quantity (EOQ) analysis\n",
        "*   Reorder Point Analysis\n",
        "*   Lead Time Analysis\n",
        "*   Carrying Cost Analysis\n",
        "*   Process Improvement\n",
        "*   Inventory Turnover Analysis"
      ],
      "metadata": {
        "id": "ZFSecYZVx1cb"
      }
    },
    {
      "cell_type": "markdown",
      "source": [
        "## Load Data"
      ],
      "metadata": {
        "id": "U8bXNt280D3f"
      }
    },
    {
      "cell_type": "code",
      "source": [
        "import pandas as pd\n",
        "import numpy as np\n",
        "import matplotlib.pyplot as plt\n",
        "import seaborn as sns\n",
        "import datetime"
      ],
      "metadata": {
        "id": "Pu0q8lSO0Hq2"
      },
      "execution_count": null,
      "outputs": []
    }
  ]
}